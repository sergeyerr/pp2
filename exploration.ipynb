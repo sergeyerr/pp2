{
 "cells": [
  {
   "cell_type": "code",
   "execution_count": null,
   "metadata": {},
   "outputs": [],
   "source": [
    "!pip install h5py pandas matplotlib matplotlib-venn scikit-learn"
   ]
  },
  {
   "cell_type": "code",
   "execution_count": 1,
   "metadata": {},
   "outputs": [
    {
     "ename": "ModuleNotFoundError",
     "evalue": "No module named 'h5py'",
     "output_type": "error",
     "traceback": [
      "\u001b[0;31m---------------------------------------------------------------------------\u001b[0m",
      "\u001b[0;31mModuleNotFoundError\u001b[0m                       Traceback (most recent call last)",
      "Cell \u001b[0;32mIn[1], line 1\u001b[0m\n\u001b[0;32m----> 1\u001b[0m \u001b[38;5;28;01mimport\u001b[39;00m \u001b[38;5;21;01mh5py\u001b[39;00m\n\u001b[1;32m      2\u001b[0m \u001b[38;5;28;01mfrom\u001b[39;00m \u001b[38;5;21;01msklearn\u001b[39;00m\u001b[38;5;21;01m.\u001b[39;00m\u001b[38;5;21;01mmanifold\u001b[39;00m \u001b[38;5;28;01mimport\u001b[39;00m TSNE\n\u001b[1;32m      3\u001b[0m \u001b[38;5;28;01mimport\u001b[39;00m \u001b[38;5;21;01mmatplotlib\u001b[39;00m\u001b[38;5;21;01m.\u001b[39;00m\u001b[38;5;21;01mpyplot\u001b[39;00m \u001b[38;5;28;01mas\u001b[39;00m \u001b[38;5;21;01mplt\u001b[39;00m\n",
      "\u001b[0;31mModuleNotFoundError\u001b[0m: No module named 'h5py'"
     ]
    }
   ],
   "source": [
    "import h5py\n",
    "from sklearn.manifold import TSNE\n",
    "import matplotlib.pyplot as plt\n",
    "import pandas as pd\n",
    "import numpy as np\n",
    "import json\n",
    "from matplotlib_venn import venn3"
   ]
  },
  {
   "cell_type": "code",
   "execution_count": null,
   "metadata": {},
   "outputs": [],
   "source": [
    "def read_json_dataset(path):\n",
    "    dataset = {}\n",
    "    with open(path) as f:\n",
    "        for line in f:\n",
    "            tmp = json.loads(line)\n",
    "            dataset[tmp[\"ID\"]] = tmp\n",
    "    return dataset\n",
    "\n",
    "def print_prot(json_dataset, csv_dataset, prot_id):\n",
    "    print(\"ID: \", prot_id)\n",
    "    if not json_dataset is None:\n",
    "        print(\"entryID: \", json_dataset[prot_id]['entryID'])\n",
    "        print(\"stID: \", json_dataset[prot_id]['stID'])\n",
    "        print(\"entity_assemID: \", json_dataset[prot_id]['entity_assemID'])\n",
    "        print(\"entityID: \", json_dataset[prot_id]['entityID'])\n",
    "        print(\"exp_method: \", json_dataset[prot_id]['exp_method'])\n",
    "        print(\"exp_method_subtype: \", json_dataset[prot_id]['exp_method_subtype'])\n",
    "        print(\"citation_DOI: \", json_dataset[prot_id]['citation_DOI'])\n",
    "        print(\"citation_title: \", json_dataset[prot_id]['citation_title'])\n",
    "        print(\"ionic_strength: \", json_dataset[prot_id]['ionic_strength'])\n",
    "        print(\"pH: \", json_dataset[prot_id]['pH'])\n",
    "        print(\"temperature: \", json_dataset[prot_id]['temperature'])\n",
    "        print(\"off_C: \", json_dataset[prot_id]['off_C'])\n",
    "        print(\"off_CA: \", json_dataset[prot_id]['off_CA'])\n",
    "        print(\"off_CB: \", json_dataset[prot_id]['off_CB'])\n",
    "        print(\"off_H: \", json_dataset[prot_id]['off_H'])\n",
    "        print(\"off_HA: \", json_dataset[prot_id]['off_HA'])\n",
    "        print(\"off_HB: \", json_dataset[prot_id]['off_HB'])\n",
    "        print(\"off_N: \", json_dataset[prot_id]['off_N'])\n",
    "        print(\"bbshift_positions_post: \", json_dataset[prot_id]['bbshift_positions_post'])\n",
    "        print(\"bbshift_types_post: \", json_dataset[prot_id]['bbshift_types_post'])\n",
    "        print(\"total_bbshifts: \", json_dataset[prot_id]['total_bbshifts'])\n",
    "    # I could extracted data from json, but I am too lazy to parse it. Via pandas everything is parsed automatically\n",
    "    if not csv_dataset is None:\n",
    "        print(csv_dataset[csv_dataset['ID'] == prot_id].iloc[:, 6:])"
   ]
  },
  {
   "cell_type": "code",
   "execution_count": null,
   "metadata": {},
   "outputs": [],
   "source": [
    "prott5_embs = h5py.File(\"data/disorder/embeddings/unfiltered_all_prott5.h5\", \"r\")"
   ]
  },
  {
   "cell_type": "code",
   "execution_count": null,
   "metadata": {},
   "outputs": [],
   "source": [
    "prott5_embs['10006_1_1_1'][1]"
   ]
  },
  {
   "cell_type": "code",
   "execution_count": null,
   "metadata": {},
   "outputs": [],
   "source": [
    "prott5_embs_res = h5py.File(\"data/disorder/embeddings/unfiltered_all_prott5_res.h5\", \"r\")"
   ]
  },
  {
   "cell_type": "code",
   "execution_count": null,
   "metadata": {},
   "outputs": [],
   "source": [
    "prott5_embs_res['10001_1_1_1']"
   ]
  },
  {
   "cell_type": "code",
   "execution_count": null,
   "metadata": {},
   "outputs": [],
   "source": [
    "# just embeddings for all proteins we have in the dataset\n",
    "len(prott5_embs.keys())"
   ]
  },
  {
   "cell_type": "code",
   "execution_count": null,
   "metadata": {},
   "outputs": [],
   "source": [
    "prostt5 = h5py.File(\"data/disorder/embeddings/prostt5.h5\", \"r\")"
   ]
  },
  {
   "cell_type": "code",
   "execution_count": null,
   "metadata": {},
   "outputs": [],
   "source": [
    "prostt5"
   ]
  },
  {
   "cell_type": "code",
   "execution_count": null,
   "metadata": {},
   "outputs": [],
   "source": [
    "prott5_embs.keys()"
   ]
  },
  {
   "cell_type": "code",
   "execution_count": null,
   "metadata": {},
   "outputs": [],
   "source": [
    "prott5_embs['10005_1_1_1']"
   ]
  },
  {
   "cell_type": "code",
   "execution_count": null,
   "metadata": {},
   "outputs": [],
   "source": [
    "# we have the same data in json and csv, but structured slightly differently\n",
    "\n",
    "unfiltered = read_json_dataset(\"data/disorder/unfiltered.json\")\n",
    "moderate = read_json_dataset(\"data/disorder/moderate.json\")\n",
    "tolerant = read_json_dataset(\"data/disorder/tolerant.json\")\n",
    "strict = read_json_dataset(\"data/disorder/strict.json\")\n",
    "\n",
    "unfiltered_csv = pd.read_csv(\"data/disorder/unfiltered.csv\")"
   ]
  },
  {
   "cell_type": "code",
   "execution_count": null,
   "metadata": {},
   "outputs": [],
   "source": [
    "strict[strict_ids[0]]"
   ]
  },
  {
   "cell_type": "code",
   "execution_count": null,
   "metadata": {},
   "outputs": [],
   "source": [
    "# generating set of IDs\n",
    "unfiltered_ids = unfiltered.keys()\n",
    "moderate_ids = moderate.keys()\n",
    "tolerant_ids = tolerant.keys()\n",
    "strict_ids = strict.keys()"
   ]
  },
  {
   "cell_type": "code",
   "execution_count": null,
   "metadata": {},
   "outputs": [],
   "source": [
    "len(strict_ids), len(moderate_ids), len(tolerant_ids), len(unfiltered_ids)"
   ]
  },
  {
   "cell_type": "code",
   "execution_count": null,
   "metadata": {},
   "outputs": [],
   "source": [
    "strict_ids"
   ]
  },
  {
   "cell_type": "markdown",
   "metadata": {},
   "source": [
    "### Datasets are included in each other\n",
    "\n",
    "strict ⊂ moderate ⊂ tolerant ⊂ unfiltered\n",
    "\n",
    "counts:\n",
    "1. Strict: 1910\n",
    "2. Moderate: 9807\n",
    "3. Tolerant: 13943\n",
    "4. Unfiltered: 15320"
   ]
  },
  {
   "cell_type": "code",
   "execution_count": null,
   "metadata": {},
   "outputs": [],
   "source": [
    "# buildung venn diagram for moderate, tolerant and strict\n",
    "venn3([moderate_ids, tolerant_ids, strict_ids], set_labels=('moderate', 'tolerant', 'strict'));"
   ]
  },
  {
   "cell_type": "code",
   "execution_count": null,
   "metadata": {},
   "outputs": [],
   "source": [
    "# buildung venn diagram for tolerant, moderate and unfiltered\n",
    "venn3([tolerant_ids, moderate_ids, unfiltered_ids], set_labels=('tolerant', 'moderate', 'unfiltered'));"
   ]
  },
  {
   "cell_type": "markdown",
   "metadata": {},
   "source": [
    "### All data is contained in unfiltered.json, all entries in different subdatasets are the same\n",
    "Subdatasets just provide splits for proteins"
   ]
  },
  {
   "cell_type": "code",
   "execution_count": null,
   "metadata": {},
   "outputs": [],
   "source": [
    "# checking, if all entries are the same in the datasets\n",
    "for entry in strict.keys():\n",
    "    if strict[entry] != moderate[entry] or strict[entry] != tolerant[entry] or strict[entry] != unfiltered[entry]:\n",
    "        print(entry)"
   ]
  },
  {
   "cell_type": "code",
   "execution_count": null,
   "metadata": {},
   "outputs": [],
   "source": [
    "prot_id = '36025_1_1_1'\n"
   ]
  },
  {
   "cell_type": "code",
   "execution_count": null,
   "metadata": {},
   "outputs": [],
   "source": [
    "print_prot(unfiltered, unfiltered_csv, prot_id)"
   ]
  },
  {
   "cell_type": "code",
   "execution_count": null,
   "metadata": {},
   "outputs": [],
   "source": [
    "prostt5 = h5py.File(\"data/disorder/embeddings/prostt5.h5\", \"r\")\n",
    "prostt5_np = np.array(prostt5)\n"
   ]
  },
  {
   "cell_type": "code",
   "execution_count": null,
   "metadata": {},
   "outputs": [],
   "source": [
    "# Load the data\n",
    "prostt5 = h5py.File(\"data/disorder/embeddings/prostt5.h5\", \"r\")\n",
    "\n",
    "# Averaging the embeddings\n",
    "averaged_embeddings = []\n",
    "indices = []  # To keep track of the indices\n",
    "\n",
    "for key in prostt5.keys():\n",
    "    if key not in strict_ids:\n",
    "        continue\n",
    "    embedding = np.array(prostt5[key])\n",
    "    averaged_embedding = np.mean(embedding, axis=0)  # Average along the amino acids\n",
    "    averaged_embeddings.append(averaged_embedding)\n",
    "    indices.append(key)\n",
    "\n",
    "# Convert to a numpy array\n",
    "averaged_embeddings_np = np.array(averaged_embeddings)\n",
    "\n",
    "# Apply t-SNE\n",
    "tsne = TSNE(n_components=2, random_state=42)\n",
    "tsne_results = tsne.fit_transform(averaged_embeddings_np)\n",
    "\n",
    "# Visualization\n",
    "plt.figure(figsize=(10, 6))\n",
    "plt.scatter(tsne_results[:, 0], tsne_results[:, 1])\n",
    "plt.title(\"t-SNE Visualization of Embeddings\")\n",
    "plt.xlabel(\"TSNE-1\")\n",
    "plt.ylabel(\"TSNE-2\")\n",
    "plt.show()\n"
   ]
  },
  {
   "cell_type": "code",
   "execution_count": null,
   "metadata": {},
   "outputs": [],
   "source": [
    "# Load the data\n",
    "prott5_embs = h5py.File(\"data/disorder/embeddings/unfiltered_all_prott5.h5\", \"r\")\n",
    "\n",
    "# Averaging the embeddings\n",
    "averaged_embeddings = []\n",
    "indices = []  # To keep track of the indices\n",
    "\n",
    "for key in prott5_embs.keys():\n",
    "    if key not in strict_ids:\n",
    "        continue\n",
    "    embedding = np.array(prott5_embs[key])\n",
    "    averaged_embedding = np.mean(embedding, axis=0)  # Average along the amino acids\n",
    "    averaged_embeddings.append(averaged_embedding)\n",
    "    indices.append(key)\n",
    "\n",
    "# Convert to a numpy array\n",
    "averaged_embeddings_np = np.array(averaged_embeddings)\n",
    "\n",
    "# Apply t-SNE\n",
    "tsne = TSNE(n_components=2, random_state=42)\n",
    "tsne_results = tsne.fit_transform(averaged_embeddings_np)\n",
    "\n",
    "# Visualization\n",
    "plt.figure(figsize=(10, 6))\n",
    "plt.scatter(tsne_results[:, 0], tsne_results[:, 1])\n",
    "plt.title(\"t-SNE Visualization of Embeddings\")\n",
    "plt.xlabel(\"TSNE-1\")\n",
    "plt.ylabel(\"TSNE-2\")\n",
    "plt.show()"
   ]
  },
  {
   "cell_type": "code",
   "execution_count": null,
   "metadata": {},
   "outputs": [],
   "source": [
    "strict['10119_1_1_1']"
   ]
  },
  {
   "cell_type": "code",
   "execution_count": null,
   "metadata": {},
   "outputs": [],
   "source": [
    "print_prot()"
   ]
  },
  {
   "cell_type": "code",
   "execution_count": 4,
   "metadata": {},
   "outputs": [],
   "source": [
    "esm2 = h5py.File(\"data/disorder/embeddings/unfiltered_all_esm2_3b.h5\", \"r\")"
   ]
  },
  {
   "cell_type": "code",
   "execution_count": 6,
   "metadata": {},
   "outputs": [
    {
     "data": {
      "text/plain": [
       "<HDF5 dataset \"10006_1_1_1\": shape (2560,), type \"<f4\">"
      ]
     },
     "execution_count": 6,
     "metadata": {},
     "output_type": "execute_result"
    }
   ],
   "source": [
    "esm2['10006_1_1_1']"
   ]
  },
  {
   "cell_type": "code",
   "execution_count": null,
   "metadata": {},
   "outputs": [],
   "source": [
    "esm2_res = h5py.File(\"data/disorder/embeddings/unfiltered_all_esm2_3b_res.h5\", \"r\")"
   ]
  },
  {
   "cell_type": "code",
   "execution_count": null,
   "metadata": {},
   "outputs": [],
   "source": [
    "esm2_res['10006_1_1_1']"
   ]
  }
 ],
 "metadata": {
  "kernelspec": {
   "display_name": "Python 3",
   "language": "python",
   "name": "python3"
  },
  "language_info": {
   "codemirror_mode": {
    "name": "ipython",
    "version": 3
   },
   "file_extension": ".py",
   "mimetype": "text/x-python",
   "name": "python",
   "nbconvert_exporter": "python",
   "pygments_lexer": "ipython3",
   "version": "3.12.1"
  }
 },
 "nbformat": 4,
 "nbformat_minor": 2
}
