{
 "cells": [
  {
   "cell_type": "code",
   "execution_count": null,
   "metadata": {},
   "outputs": [],
   "source": [
    "!pip install torch pandas numpy h5py tqdm"
   ]
  },
  {
   "cell_type": "code",
   "execution_count": null,
   "metadata": {},
   "outputs": [],
   "source": [
    "%load_ext autoreload\n",
    "%autoreload 2\n",
    "\n",
    "import pandas as pd\n",
    "from sklearn.model_selection import train_test_split\n",
    "from sklearn.preprocessing import StandardScaler\n",
    "import joblib\n",
    "from src.dataset import ProteinDataset\n",
    "from src.utils import train_model, test_model"
   ]
  },
  {
   "cell_type": "code",
   "execution_count": null,
   "metadata": {},
   "outputs": [],
   "source": [
    "# Load and prepare data\n",
    "csv_file = 'data/disorder/strict.csv'\n",
    "prott5_file = 'data/disorder/embeddings/unfiltered_all_prott5.h5'\n",
    "prott5_res_file = 'data/disorder/embeddings/unfiltered_all_prott5_res.h5'\n",
    "prostt5_file = 'data/disorder/embeddings/prostt5.h5'\n",
    "esm_file = 'data/disorder/embeddings/unfiltered_all_esm2_3b.h5'\n",
    "esm_res_file = 'data/disorder/embeddings/unfiltered_all_esm2_3b_res.h5'\n",
    "chemical_shifts_df = pd.read_csv(csv_file)\n",
    "chemical_shifts_df.describe()"
   ]
  },
  {
   "cell_type": "code",
   "execution_count": 7,
   "metadata": {},
   "outputs": [],
   "source": [
    "#target_columns = ['C', 'CA', 'CB', 'HA', 'H', 'N', 'HB']\n",
    "target_columns = ['N']\n",
    "print(len(chemical_shifts_df))\n",
    "chemical_shifts_df.dropna(inplace=True, subset=target_columns)\n",
    "print(len(chemical_shifts_df))\n",
    "\n",
    "# Split data into train, validation, and test sets\n",
    "train_df, test_df = train_test_split(chemical_shifts_df, test_size=0.2, random_state=42)\n",
    "train_df, val_df = train_test_split(train_df, test_size=0.25, random_state=42)  # 0.25 x 0.8 = 0.2\n",
    "\n",
    "# Normalize targets based on training data statistics\n",
    "scaler = StandardScaler()\n",
    "train_targets = train_df[target_columns]\n",
    "scaler.fit(train_targets)\n",
    "\n",
    "# Save the mean and std for later un-normalizing\n",
    "means = scaler.mean_\n",
    "stds = scaler.scale_\n",
    "\n",
    "# Save the scaler object\n",
    "joblib.dump(scaler, 'scaler.joblib')\n",
    "\n",
    "# Apply normalization to the training targets\n",
    "#train_df[target_columns] = scaler.transform(train_targets)\n",
    "\n",
    "# Apply the same normalization to validation and test sets\n",
    "# val_df[target_columns] = scaler.transform(val_df[target_columns])\n",
    "# test_df[target_columns] = scaler.transform(test_df[target_columns])\n",
    "\n",
    "# Create datasets\n",
    "train_dataset = ProteinDataset(target_columns, train_df, prott5_file, prott5_res_file, prostt5_file, esm_res_file, esm_file)\n",
    "val_dataset = ProteinDataset(target_columns, val_df, prott5_file, prott5_res_file, prostt5_file, esm_res_file, esm_file)\n",
    "test_dataset = ProteinDataset(target_columns, test_df, prott5_file, prott5_res_file, prostt5_file, esm_res_file, esm_file)"
   ]
  },
  {
   "cell_type": "code",
   "execution_count": 8,
   "metadata": {},
   "outputs": [
    {
     "name": "stdout",
     "output_type": "stream",
     "text": [
      "Trainng dataset length: 115233\n",
      "Validation dataset length: 38411\n",
      "Test dataset length: 38412\n"
     ]
    }
   ],
   "source": [
    "print('Trainng dataset length:', len(train_dataset))\n",
    "print('Validation dataset length:', len(val_dataset))\n",
    "print('Test dataset length:', len(test_dataset))"
   ]
  },
  {
   "cell_type": "code",
   "execution_count": 12,
   "metadata": {},
   "outputs": [],
   "source": [
    "learning_rate = 0.001\n",
    "weight_decay = 1e-5\n",
    "patience = 10\n",
    "batch_size = 128\n",
    "num_epochs = 5"
   ]
  },
  {
   "cell_type": "code",
   "execution_count": 13,
   "metadata": {},
   "outputs": [
    {
     "name": "stdout",
     "output_type": "stream",
     "text": [
      "ChemicalShiftsPredictor(\n",
      "  (light_attention): LightAttention(\n",
      "    (feature_convolution): Conv1d(1024, 1024, kernel_size=(9,), stride=(1,), padding=(4,))\n",
      "    (attention_convolution): Conv1d(1024, 1024, kernel_size=(9,), stride=(1,), padding=(4,))\n",
      "    (softmax): Softmax(dim=-1)\n",
      "    (dropout): Dropout(p=0.25, inplace=False)\n",
      "  )\n",
      "  (fc_layers): Sequential(\n",
      "    (0): Linear(in_features=5120, out_features=512, bias=True)\n",
      "    (1): ReLU()\n",
      "    (2): Linear(in_features=512, out_features=256, bias=True)\n",
      "    (3): ReLU()\n",
      "    (4): Linear(in_features=256, out_features=1, bias=True)\n",
      "  )\n",
      ")\n"
     ]
    },
    {
     "name": "stderr",
     "output_type": "stream",
     "text": [
      "Epoch 1/5:   0%|          | 0/3602 [00:00<?, ?batch/s]/home/radoslavralev/Documents/pp2/src/dataset.py:43: UserWarning: Creating a tensor from a list of numpy.ndarrays is extremely slow. Please consider converting the list to a single numpy.ndarray with numpy.array() before converting to a tensor. (Triggered internally at ../torch/csrc/utils/tensor_new.cpp:261.)\n",
      "  torch.tensor(protein_prott5_emb, dtype=torch.float32).squeeze(),\n",
      "/home/radoslavralev/Documents/pp2/src/dataset.py:43: UserWarning: Creating a tensor from a list of numpy.ndarrays is extremely slow. Please consider converting the list to a single numpy.ndarray with numpy.array() before converting to a tensor. (Triggered internally at ../torch/csrc/utils/tensor_new.cpp:261.)\n",
      "  torch.tensor(protein_prott5_emb, dtype=torch.float32).squeeze(),\n",
      "/home/radoslavralev/Documents/pp2/src/dataset.py:43: UserWarning: Creating a tensor from a list of numpy.ndarrays is extremely slow. Please consider converting the list to a single numpy.ndarray with numpy.array() before converting to a tensor. (Triggered internally at ../torch/csrc/utils/tensor_new.cpp:261.)\n",
      "  torch.tensor(protein_prott5_emb, dtype=torch.float32).squeeze(),\n",
      "/home/radoslavralev/Documents/pp2/src/dataset.py:43: UserWarning: Creating a tensor from a list of numpy.ndarrays is extremely slow. Please consider converting the list to a single numpy.ndarray with numpy.array() before converting to a tensor. (Triggered internally at ../torch/csrc/utils/tensor_new.cpp:261.)\n",
      "  torch.tensor(protein_prott5_emb, dtype=torch.float32).squeeze(),\n",
      "/home/radoslavralev/Documents/pp2/src/dataset.py:43: UserWarning: Creating a tensor from a list of numpy.ndarrays is extremely slow. Please consider converting the list to a single numpy.ndarray with numpy.array() before converting to a tensor. (Triggered internally at ../torch/csrc/utils/tensor_new.cpp:261.)\n",
      "  torch.tensor(protein_prott5_emb, dtype=torch.float32).squeeze(),\n",
      "/home/radoslavralev/Documents/pp2/src/dataset.py:43: UserWarning: Creating a tensor from a list of numpy.ndarrays is extremely slow. Please consider converting the list to a single numpy.ndarray with numpy.array() before converting to a tensor. (Triggered internally at ../torch/csrc/utils/tensor_new.cpp:261.)\n",
      "  torch.tensor(protein_prott5_emb, dtype=torch.float32).squeeze(),\n",
      "Epoch 1/5:   1%|          | 39/3602 [00:06<10:16,  5.78batch/s] \n"
     ]
    },
    {
     "ename": "KeyboardInterrupt",
     "evalue": "",
     "output_type": "error",
     "traceback": [
      "\u001b[0;31m---------------------------------------------------------------------------\u001b[0m",
      "\u001b[0;31mKeyboardInterrupt\u001b[0m                         Traceback (most recent call last)",
      "\u001b[1;32m/home/radoslavralev/Documents/pp2/simple_matching.ipynb Cell 7\u001b[0m line \u001b[0;36m1\n\u001b[0;32m----> <a href='vscode-notebook-cell:/home/radoslavralev/Documents/pp2/simple_matching.ipynb#W6sZmlsZQ%3D%3D?line=0'>1</a>\u001b[0m trained_model \u001b[39m=\u001b[39m train_model(train_dataset, val_dataset, learning_rate\u001b[39m=\u001b[39;49mlearning_rate, num_epochs\u001b[39m=\u001b[39;49mnum_epochs, weight_decay\u001b[39m=\u001b[39;49mweight_decay, patience\u001b[39m=\u001b[39;49mpatience, batch_size\u001b[39m=\u001b[39;49mbatch_size, use_prostt5\u001b[39m=\u001b[39;49m\u001b[39mTrue\u001b[39;49;00m, use_protein_mean\u001b[39m=\u001b[39;49m\u001b[39mTrue\u001b[39;49;00m)\n\u001b[1;32m      <a href='vscode-notebook-cell:/home/radoslavralev/Documents/pp2/simple_matching.ipynb#W6sZmlsZQ%3D%3D?line=1'>2</a>\u001b[0m test_model(trained_model, test_dataset, batch_size\u001b[39m=\u001b[39mbatch_size, use_prostt5\u001b[39m=\u001b[39m\u001b[39mTrue\u001b[39;00m, use_protein_mean\u001b[39m=\u001b[39m\u001b[39mTrue\u001b[39;00m)\n",
      "File \u001b[0;32m~/Documents/pp2/src/utils.py:68\u001b[0m, in \u001b[0;36mtrain_model\u001b[0;34m(train_dataset, val_dataset, learning_rate, weight_decay, patience, batch_size, use_prostt5, use_esm2, use_protein_mean, num_epochs)\u001b[0m\n\u001b[1;32m     66\u001b[0m optimizer\u001b[39m.\u001b[39mzero_grad()\n\u001b[1;32m     67\u001b[0m outputs \u001b[39m=\u001b[39m model(concatenated_embeddings, protein_prostt5_emb\u001b[39m.\u001b[39mto(device))\n\u001b[0;32m---> 68\u001b[0m loss \u001b[39m=\u001b[39m criterion(outputs, targets\u001b[39m.\u001b[39;49mto(device))\n\u001b[1;32m     69\u001b[0m loss\u001b[39m.\u001b[39mbackward()\n\u001b[1;32m     70\u001b[0m optimizer\u001b[39m.\u001b[39mstep()\n",
      "\u001b[0;31mKeyboardInterrupt\u001b[0m: "
     ]
    }
   ],
   "source": [
    "trained_model = train_model(train_dataset, val_dataset, learning_rate=learning_rate, num_epochs=num_epochs, weight_decay=weight_decay, patience=patience, batch_size=batch_size, use_prostt5=True, use_protein_mean=True)\n",
    "test_model(trained_model, test_dataset, batch_size=batch_size, use_prostt5=True, use_protein_mean=True)"
   ]
  },
  {
   "cell_type": "code",
   "execution_count": null,
   "metadata": {},
   "outputs": [],
   "source": [
    "trained_model = train_model(train_dataset, val_dataset, learning_rate=learning_rate, num_epochs=num_epochs, weight_decay=weight_decay, patience=patience, batch_size=batch_size, use_prostt5=True, use_protein_mean=False)\n",
    "test_model(trained_model, test_dataset, batch_size=batch_size, use_prostt5=True, use_protein_mean=False)"
   ]
  },
  {
   "cell_type": "code",
   "execution_count": null,
   "metadata": {},
   "outputs": [],
   "source": [
    "trained_model = train_model(train_dataset, val_dataset, learning_rate=learning_rate, num_epochs=50, weight_decay=weight_decay, patience=patience, batch_size=batch_size, use_prostt5=True, use_protein_mean=True)\n",
    "test_model(trained_model, test_dataset, batch_size=batch_size, use_prostt5=True, use_protein_mean=True)"
   ]
  },
  {
   "cell_type": "code",
   "execution_count": null,
   "metadata": {},
   "outputs": [],
   "source": [
    "torch.cuda.empty_cache()\n",
    "trained_model = train_model(train_dataset, val_dataset, learning_rate=learning_rate, num_epochs=50, weight_decay=weight_decay, patience=patience, batch_size=2048, use_prostt5=True, use_protein_mean=True, use_esm2=False)\n",
    "test_model(trained_model, test_dataset, batch_size=batch_size, use_prostt5=True, use_protein_mean=True, use_esm2=False)"
   ]
  },
  {
   "cell_type": "code",
   "execution_count": null,
   "metadata": {},
   "outputs": [],
   "source": []
  }
 ],
 "metadata": {
  "kernelspec": {
   "display_name": ".venv",
   "language": "python",
   "name": "python3"
  },
  "language_info": {
   "codemirror_mode": {
    "name": "ipython",
    "version": 3
   },
   "file_extension": ".py",
   "mimetype": "text/x-python",
   "name": "python",
   "nbconvert_exporter": "python",
   "pygments_lexer": "ipython3",
   "version": "3.10.12"
  }
 },
 "nbformat": 4,
 "nbformat_minor": 2
}
