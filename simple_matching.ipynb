{
 "cells": [
  {
   "cell_type": "code",
   "execution_count": null,
   "metadata": {},
   "outputs": [],
   "source": [
    "!pip install torch pandas numpy h5py tqdm"
   ]
  },
  {
   "cell_type": "code",
   "execution_count": 1,
   "metadata": {},
   "outputs": [],
   "source": [
    "%load_ext autoreload\n",
    "%autoreload 2\n",
    "\n",
    "import torch\n",
    "from torch.utils.data import Dataset, DataLoader\n",
    "import pandas as pd\n",
    "import h5py\n",
    "import numpy as np\n",
    "from sklearn.model_selection import train_test_split\n",
    "from sklearn.preprocessing import StandardScaler\n",
    "import joblib\n",
    "from src.dataset import ProteinDataset\n",
    "from src.model import ChemicalShiftsPredictor\n",
    "from src.utils import train_model, test_model"
   ]
  },
  {
   "cell_type": "code",
   "execution_count": 27,
   "metadata": {},
   "outputs": [
    {
     "data": {
      "text/html": [
       "<div>\n",
       "<style scoped>\n",
       "    .dataframe tbody tr th:only-of-type {\n",
       "        vertical-align: middle;\n",
       "    }\n",
       "\n",
       "    .dataframe tbody tr th {\n",
       "        vertical-align: top;\n",
       "    }\n",
       "\n",
       "    .dataframe thead th {\n",
       "        text-align: right;\n",
       "    }\n",
       "</style>\n",
       "<table border=\"1\" class=\"dataframe\">\n",
       "  <thead>\n",
       "    <tr style=\"text-align: right;\">\n",
       "      <th></th>\n",
       "      <th>Unnamed: 0</th>\n",
       "      <th>entryID</th>\n",
       "      <th>stID</th>\n",
       "      <th>entity_assemID</th>\n",
       "      <th>entityID</th>\n",
       "      <th>seq_index</th>\n",
       "      <th>k</th>\n",
       "      <th>zscores</th>\n",
       "      <th>pscores</th>\n",
       "      <th>C</th>\n",
       "      <th>CA</th>\n",
       "      <th>CB</th>\n",
       "      <th>HA</th>\n",
       "      <th>H</th>\n",
       "      <th>N</th>\n",
       "      <th>HB</th>\n",
       "    </tr>\n",
       "  </thead>\n",
       "  <tbody>\n",
       "    <tr>\n",
       "      <th>count</th>\n",
       "      <td>217493.000000</td>\n",
       "      <td>217493.000000</td>\n",
       "      <td>217493.000000</td>\n",
       "      <td>217493.000000</td>\n",
       "      <td>217493.000000</td>\n",
       "      <td>217493.000000</td>\n",
       "      <td>217493.000000</td>\n",
       "      <td>209016.00000</td>\n",
       "      <td>209016.000000</td>\n",
       "      <td>154402.000000</td>\n",
       "      <td>203289.000000</td>\n",
       "      <td>184908.000000</td>\n",
       "      <td>151129.000000</td>\n",
       "      <td>192492.00000</td>\n",
       "      <td>192056.000000</td>\n",
       "      <td>133093.000000</td>\n",
       "    </tr>\n",
       "    <tr>\n",
       "      <th>mean</th>\n",
       "      <td>950.551788</td>\n",
       "      <td>25516.888194</td>\n",
       "      <td>1.069805</td>\n",
       "      <td>1.086191</td>\n",
       "      <td>1.028737</td>\n",
       "      <td>72.199183</td>\n",
       "      <td>16.539553</td>\n",
       "      <td>11.35494</td>\n",
       "      <td>0.162650</td>\n",
       "      <td>175.888378</td>\n",
       "      <td>56.793136</td>\n",
       "      <td>38.003339</td>\n",
       "      <td>4.343245</td>\n",
       "      <td>8.27458</td>\n",
       "      <td>119.598080</td>\n",
       "      <td>2.311165</td>\n",
       "    </tr>\n",
       "    <tr>\n",
       "      <th>std</th>\n",
       "      <td>551.256443</td>\n",
       "      <td>10008.917334</td>\n",
       "      <td>0.445658</td>\n",
       "      <td>0.467657</td>\n",
       "      <td>0.175259</td>\n",
       "      <td>58.331021</td>\n",
       "      <td>4.661000</td>\n",
       "      <td>4.08679</td>\n",
       "      <td>0.229569</td>\n",
       "      <td>5.180103</td>\n",
       "      <td>4.960242</td>\n",
       "      <td>12.878662</td>\n",
       "      <td>0.870714</td>\n",
       "      <td>0.68850</td>\n",
       "      <td>5.324304</td>\n",
       "      <td>2.330996</td>\n",
       "    </tr>\n",
       "    <tr>\n",
       "      <th>min</th>\n",
       "      <td>0.000000</td>\n",
       "      <td>7349.000000</td>\n",
       "      <td>1.000000</td>\n",
       "      <td>1.000000</td>\n",
       "      <td>1.000000</td>\n",
       "      <td>1.000000</td>\n",
       "      <td>0.000000</td>\n",
       "      <td>-5.04270</td>\n",
       "      <td>-0.000000</td>\n",
       "      <td>0.000000</td>\n",
       "      <td>4.186000</td>\n",
       "      <td>-34.477000</td>\n",
       "      <td>-2.429500</td>\n",
       "      <td>-0.91400</td>\n",
       "      <td>0.000000</td>\n",
       "      <td>-1.626000</td>\n",
       "    </tr>\n",
       "    <tr>\n",
       "      <th>25%</th>\n",
       "      <td>470.000000</td>\n",
       "      <td>17602.000000</td>\n",
       "      <td>1.000000</td>\n",
       "      <td>1.000000</td>\n",
       "      <td>1.000000</td>\n",
       "      <td>29.000000</td>\n",
       "      <td>15.000000</td>\n",
       "      <td>10.69490</td>\n",
       "      <td>0.046000</td>\n",
       "      <td>174.517000</td>\n",
       "      <td>54.360000</td>\n",
       "      <td>30.481000</td>\n",
       "      <td>4.019000</td>\n",
       "      <td>7.88200</td>\n",
       "      <td>116.803000</td>\n",
       "      <td>1.721500</td>\n",
       "    </tr>\n",
       "    <tr>\n",
       "      <th>50%</th>\n",
       "      <td>943.000000</td>\n",
       "      <td>25387.000000</td>\n",
       "      <td>1.000000</td>\n",
       "      <td>1.000000</td>\n",
       "      <td>1.000000</td>\n",
       "      <td>60.000000</td>\n",
       "      <td>18.000000</td>\n",
       "      <td>12.62620</td>\n",
       "      <td>0.076600</td>\n",
       "      <td>175.996000</td>\n",
       "      <td>56.971000</td>\n",
       "      <td>34.651500</td>\n",
       "      <td>4.299000</td>\n",
       "      <td>8.27300</td>\n",
       "      <td>120.034000</td>\n",
       "      <td>2.042000</td>\n",
       "    </tr>\n",
       "    <tr>\n",
       "      <th>75%</th>\n",
       "      <td>1431.000000</td>\n",
       "      <td>30293.000000</td>\n",
       "      <td>1.000000</td>\n",
       "      <td>1.000000</td>\n",
       "      <td>1.000000</td>\n",
       "      <td>99.000000</td>\n",
       "      <td>21.000000</td>\n",
       "      <td>13.93570</td>\n",
       "      <td>0.136300</td>\n",
       "      <td>177.528000</td>\n",
       "      <td>59.859000</td>\n",
       "      <td>41.354000</td>\n",
       "      <td>4.619000</td>\n",
       "      <td>8.65400</td>\n",
       "      <td>122.818000</td>\n",
       "      <td>2.812500</td>\n",
       "    </tr>\n",
       "    <tr>\n",
       "      <th>max</th>\n",
       "      <td>1909.000000</td>\n",
       "      <td>51871.000000</td>\n",
       "      <td>8.000000</td>\n",
       "      <td>8.000000</td>\n",
       "      <td>4.000000</td>\n",
       "      <td>471.000000</td>\n",
       "      <td>21.000000</td>\n",
       "      <td>16.14970</td>\n",
       "      <td>0.999500</td>\n",
       "      <td>187.570000</td>\n",
       "      <td>176.857000</td>\n",
       "      <td>137.868000</td>\n",
       "      <td>173.538000</td>\n",
       "      <td>119.59600</td>\n",
       "      <td>181.029000</td>\n",
       "      <td>790.215500</td>\n",
       "    </tr>\n",
       "  </tbody>\n",
       "</table>\n",
       "</div>"
      ],
      "text/plain": [
       "          Unnamed: 0        entryID           stID  entity_assemID  \\\n",
       "count  217493.000000  217493.000000  217493.000000   217493.000000   \n",
       "mean      950.551788   25516.888194       1.069805        1.086191   \n",
       "std       551.256443   10008.917334       0.445658        0.467657   \n",
       "min         0.000000    7349.000000       1.000000        1.000000   \n",
       "25%       470.000000   17602.000000       1.000000        1.000000   \n",
       "50%       943.000000   25387.000000       1.000000        1.000000   \n",
       "75%      1431.000000   30293.000000       1.000000        1.000000   \n",
       "max      1909.000000   51871.000000       8.000000        8.000000   \n",
       "\n",
       "            entityID      seq_index              k       zscores  \\\n",
       "count  217493.000000  217493.000000  217493.000000  209016.00000   \n",
       "mean        1.028737      72.199183      16.539553      11.35494   \n",
       "std         0.175259      58.331021       4.661000       4.08679   \n",
       "min         1.000000       1.000000       0.000000      -5.04270   \n",
       "25%         1.000000      29.000000      15.000000      10.69490   \n",
       "50%         1.000000      60.000000      18.000000      12.62620   \n",
       "75%         1.000000      99.000000      21.000000      13.93570   \n",
       "max         4.000000     471.000000      21.000000      16.14970   \n",
       "\n",
       "             pscores              C             CA             CB  \\\n",
       "count  209016.000000  154402.000000  203289.000000  184908.000000   \n",
       "mean        0.162650     175.888378      56.793136      38.003339   \n",
       "std         0.229569       5.180103       4.960242      12.878662   \n",
       "min        -0.000000       0.000000       4.186000     -34.477000   \n",
       "25%         0.046000     174.517000      54.360000      30.481000   \n",
       "50%         0.076600     175.996000      56.971000      34.651500   \n",
       "75%         0.136300     177.528000      59.859000      41.354000   \n",
       "max         0.999500     187.570000     176.857000     137.868000   \n",
       "\n",
       "                  HA             H              N             HB  \n",
       "count  151129.000000  192492.00000  192056.000000  133093.000000  \n",
       "mean        4.343245       8.27458     119.598080       2.311165  \n",
       "std         0.870714       0.68850       5.324304       2.330996  \n",
       "min        -2.429500      -0.91400       0.000000      -1.626000  \n",
       "25%         4.019000       7.88200     116.803000       1.721500  \n",
       "50%         4.299000       8.27300     120.034000       2.042000  \n",
       "75%         4.619000       8.65400     122.818000       2.812500  \n",
       "max       173.538000     119.59600     181.029000     790.215500  "
      ]
     },
     "execution_count": 27,
     "metadata": {},
     "output_type": "execute_result"
    }
   ],
   "source": [
    "# Load and prepare data\n",
    "csv_file = 'data/disorder/strict.csv'\n",
    "prott5_file = 'data/disorder/embeddings/unfiltered_all_prott5.h5'\n",
    "prott5_res_file = 'data/disorder/embeddings/unfiltered_all_prott5_res.h5'\n",
    "prostt5_file = 'data/disorder/embeddings/prostt5.h5'\n",
    "chemical_shifts_df = pd.read_csv(csv_file)\n",
    "chemical_shifts_df.describe()"
   ]
  },
  {
   "cell_type": "code",
   "execution_count": 28,
   "metadata": {},
   "outputs": [
    {
     "name": "stdout",
     "output_type": "stream",
     "text": [
      "217493\n",
      "192056\n"
     ]
    }
   ],
   "source": [
    "#target_columns = ['C', 'CA', 'CB', 'HA', 'H', 'N', 'HB']\n",
    "target_columns = ['N']\n",
    "print(len(chemical_shifts_df))\n",
    "chemical_shifts_df.dropna(inplace=True, subset=target_columns)\n",
    "print(len(chemical_shifts_df))\n",
    "\n",
    "# Split data into train, validation, and test sets\n",
    "train_df, test_df = train_test_split(chemical_shifts_df, test_size=0.2, random_state=42)\n",
    "train_df, val_df = train_test_split(train_df, test_size=0.25, random_state=42)  # 0.25 x 0.8 = 0.2\n",
    "\n",
    "# Normalize targets based on training data statistics\n",
    "scaler = StandardScaler()\n",
    "train_targets = train_df[target_columns]\n",
    "scaler.fit(train_targets)\n",
    "\n",
    "# Save the mean and std for later un-normalizing\n",
    "means = scaler.mean_\n",
    "stds = scaler.scale_\n",
    "\n",
    "# Save the scaler object\n",
    "joblib.dump(scaler, 'scaler.joblib')\n",
    "\n",
    "# Apply normalization to the training targets\n",
    "#train_df[target_columns] = scaler.transform(train_targets)\n",
    "\n",
    "# Apply the same normalization to validation and test sets\n",
    "# val_df[target_columns] = scaler.transform(val_df[target_columns])\n",
    "# test_df[target_columns] = scaler.transform(test_df[target_columns])\n",
    "\n",
    "# Create datasets\n",
    "train_dataset = ProteinDataset(target_columns, train_df, prott5_file, prott5_res_file, prostt5_file)\n",
    "val_dataset = ProteinDataset(target_columns, val_df, prott5_file, prott5_res_file, prostt5_file)\n",
    "test_dataset = ProteinDataset(target_columns, test_df, prott5_file, prott5_res_file, prostt5_file)"
   ]
  },
  {
   "cell_type": "code",
   "execution_count": 29,
   "metadata": {},
   "outputs": [
    {
     "name": "stdout",
     "output_type": "stream",
     "text": [
      "Trainng dataset length: 115233\n",
      "Validation dataset length: 38411\n",
      "Test dataset length: 38412\n"
     ]
    }
   ],
   "source": [
    "print('Trainng dataset length:', len(train_dataset))\n",
    "print('Validation dataset length:', len(val_dataset))\n",
    "print('Test dataset length:', len(test_dataset))"
   ]
  },
  {
   "cell_type": "code",
   "execution_count": 30,
   "metadata": {},
   "outputs": [
    {
     "name": "stderr",
     "output_type": "stream",
     "text": [
      "Epoch 1/5: 100%|██████████| 113/113 [01:12<00:00,  1.55batch/s]\n"
     ]
    },
    {
     "name": "stdout",
     "output_type": "stream",
     "text": [
      "Epoch 1, Train Loss: 3568.5859, Validation Loss: 252.9527\n"
     ]
    },
    {
     "name": "stderr",
     "output_type": "stream",
     "text": [
      "Epoch 2/5: 100%|██████████| 113/113 [01:13<00:00,  1.55batch/s]\n"
     ]
    },
    {
     "name": "stdout",
     "output_type": "stream",
     "text": [
      "Epoch 2, Train Loss: 160.4907, Validation Loss: 108.3401\n"
     ]
    },
    {
     "name": "stderr",
     "output_type": "stream",
     "text": [
      "Epoch 3/5: 100%|██████████| 113/113 [01:10<00:00,  1.60batch/s]\n"
     ]
    },
    {
     "name": "stdout",
     "output_type": "stream",
     "text": [
      "Epoch 3, Train Loss: 77.9913, Validation Loss: 58.1687\n"
     ]
    },
    {
     "name": "stderr",
     "output_type": "stream",
     "text": [
      "Epoch 4/5: 100%|██████████| 113/113 [01:10<00:00,  1.60batch/s]\n"
     ]
    },
    {
     "name": "stdout",
     "output_type": "stream",
     "text": [
      "Epoch 4, Train Loss: 45.2795, Validation Loss: 37.5724\n"
     ]
    },
    {
     "name": "stderr",
     "output_type": "stream",
     "text": [
      "Epoch 5/5: 100%|██████████| 113/113 [01:11<00:00,  1.58batch/s]\n"
     ]
    },
    {
     "name": "stdout",
     "output_type": "stream",
     "text": [
      "Epoch 5, Train Loss: 30.6636, Validation Loss: 27.9441\n",
      "Test Loss: 28.4074\n"
     ]
    }
   ],
   "source": [
    "# Assuming you have defined model, train_loader, val_loader, test_loader\n",
    "learning_rate = 0.001\n",
    "weight_decay = 1e-5\n",
    "patience = 10\n",
    "batch_size = 1024\n",
    "num_epochs = 5\n",
    "\n",
    "trained_model = train_model(train_dataset, val_dataset, learning_rate=learning_rate, num_epochs=num_epochs, weight_decay=weight_decay, patience=patience, batch_size=batch_size, use_prostt5=False, use_protein_mean=False)\n",
    "test_model(trained_model, test_dataset, batch_size=batch_size, use_prostt5=False, use_protein_mean=False)"
   ]
  },
  {
   "cell_type": "code",
   "execution_count": 31,
   "metadata": {},
   "outputs": [
    {
     "name": "stderr",
     "output_type": "stream",
     "text": [
      "Epoch 1/5:   0%|          | 0/113 [00:00<?, ?batch/s]"
     ]
    },
    {
     "name": "stderr",
     "output_type": "stream",
     "text": [
      "Epoch 1/5: 100%|██████████| 113/113 [01:09<00:00,  1.63batch/s]\n"
     ]
    },
    {
     "name": "stdout",
     "output_type": "stream",
     "text": [
      "Epoch 1, Train Loss: 2809.6434, Validation Loss: 133.9024\n"
     ]
    },
    {
     "name": "stderr",
     "output_type": "stream",
     "text": [
      "Epoch 2/5: 100%|██████████| 113/113 [01:07<00:00,  1.67batch/s]\n"
     ]
    },
    {
     "name": "stdout",
     "output_type": "stream",
     "text": [
      "Epoch 2, Train Loss: 75.2289, Validation Loss: 49.4624\n"
     ]
    },
    {
     "name": "stderr",
     "output_type": "stream",
     "text": [
      "Epoch 3/5: 100%|██████████| 113/113 [01:08<00:00,  1.66batch/s]\n"
     ]
    },
    {
     "name": "stdout",
     "output_type": "stream",
     "text": [
      "Epoch 3, Train Loss: 36.5987, Validation Loss: 31.3096\n"
     ]
    },
    {
     "name": "stderr",
     "output_type": "stream",
     "text": [
      "Epoch 4/5: 100%|██████████| 113/113 [01:09<00:00,  1.62batch/s]\n"
     ]
    },
    {
     "name": "stdout",
     "output_type": "stream",
     "text": [
      "Epoch 4, Train Loss: 25.2554, Validation Loss: 24.5307\n"
     ]
    },
    {
     "name": "stderr",
     "output_type": "stream",
     "text": [
      "Epoch 5/5: 100%|██████████| 113/113 [01:11<00:00,  1.59batch/s]\n"
     ]
    },
    {
     "name": "stdout",
     "output_type": "stream",
     "text": [
      "Epoch 5, Train Loss: 19.9593, Validation Loss: 20.8266\n",
      "Test Loss: 21.2452\n"
     ]
    }
   ],
   "source": [
    "trained_model = train_model(train_dataset, val_dataset, learning_rate=learning_rate, num_epochs=num_epochs, weight_decay=weight_decay, patience=patience, batch_size=batch_size, use_prostt5=True, use_protein_mean=False)\n",
    "test_model(trained_model, test_dataset, batch_size=batch_size, use_prostt5=True, use_protein_mean=False)"
   ]
  },
  {
   "cell_type": "code",
   "execution_count": 32,
   "metadata": {},
   "outputs": [
    {
     "name": "stderr",
     "output_type": "stream",
     "text": [
      "Epoch 1/5:   0%|          | 0/113 [00:00<?, ?batch/s]"
     ]
    },
    {
     "name": "stderr",
     "output_type": "stream",
     "text": [
      "Epoch 1/5: 100%|██████████| 113/113 [01:09<00:00,  1.62batch/s]\n"
     ]
    },
    {
     "name": "stdout",
     "output_type": "stream",
     "text": [
      "Epoch 1, Train Loss: 2277.2400, Validation Loss: 46.7049\n"
     ]
    },
    {
     "name": "stderr",
     "output_type": "stream",
     "text": [
      "Epoch 2/5: 100%|██████████| 113/113 [01:13<00:00,  1.54batch/s]\n"
     ]
    },
    {
     "name": "stdout",
     "output_type": "stream",
     "text": [
      "Epoch 2, Train Loss: 24.2542, Validation Loss: 16.0128\n"
     ]
    },
    {
     "name": "stderr",
     "output_type": "stream",
     "text": [
      "Epoch 3/5: 100%|██████████| 113/113 [01:11<00:00,  1.58batch/s]\n"
     ]
    },
    {
     "name": "stdout",
     "output_type": "stream",
     "text": [
      "Epoch 3, Train Loss: 13.1453, Validation Loss: 12.5087\n"
     ]
    },
    {
     "name": "stderr",
     "output_type": "stream",
     "text": [
      "Epoch 4/5: 100%|██████████| 113/113 [01:10<00:00,  1.59batch/s]\n"
     ]
    },
    {
     "name": "stdout",
     "output_type": "stream",
     "text": [
      "Epoch 4, Train Loss: 10.6051, Validation Loss: 11.2528\n"
     ]
    },
    {
     "name": "stderr",
     "output_type": "stream",
     "text": [
      "Epoch 5/5: 100%|██████████| 113/113 [01:09<00:00,  1.63batch/s]\n"
     ]
    },
    {
     "name": "stdout",
     "output_type": "stream",
     "text": [
      "Epoch 5, Train Loss: 9.2809, Validation Loss: 10.4593\n",
      "Test Loss: 10.8457\n"
     ]
    }
   ],
   "source": [
    "trained_model = train_model(train_dataset, val_dataset, learning_rate=learning_rate, num_epochs=50, weight_decay=weight_decay, patience=patience, batch_size=batch_size, use_prostt5=True, use_protein_mean=True)\n",
    "test_model(trained_model, test_dataset, batch_size=batch_size, use_prostt5=True, use_protein_mean=True)"
   ]
  },
  {
   "cell_type": "code",
   "execution_count": null,
   "metadata": {},
   "outputs": [],
   "source": []
  }
 ],
 "metadata": {
  "kernelspec": {
   "display_name": ".venv",
   "language": "python",
   "name": "python3"
  },
  "language_info": {
   "codemirror_mode": {
    "name": "ipython",
    "version": 3
   },
   "file_extension": ".py",
   "mimetype": "text/x-python",
   "name": "python",
   "nbconvert_exporter": "python",
   "pygments_lexer": "ipython3",
   "version": "3.10.12"
  }
 },
 "nbformat": 4,
 "nbformat_minor": 2
}
