{
 "cells": [
  {
   "cell_type": "code",
   "execution_count": 2,
   "metadata": {},
   "outputs": [
    {
     "name": "stdout",
     "output_type": "stream",
     "text": [
      "Requirement already satisfied: pandas in /home/sergeyer/mambaforge/envs/prots/lib/python3.10/site-packages (2.2.0)\n",
      "Requirement already satisfied: numpy in /home/sergeyer/mambaforge/envs/prots/lib/python3.10/site-packages (1.26.3)\n",
      "Requirement already satisfied: h5py in /home/sergeyer/mambaforge/envs/prots/lib/python3.10/site-packages (3.10.0)\n",
      "Requirement already satisfied: tqdm in /home/sergeyer/mambaforge/envs/prots/lib/python3.10/site-packages (4.66.1)\n",
      "Requirement already satisfied: scikit-learn in /home/sergeyer/mambaforge/envs/prots/lib/python3.10/site-packages (1.4.0)\n",
      "Collecting tensorboardX\n",
      "  Downloading tensorboardX-2.6.2.2-py2.py3-none-any.whl.metadata (5.8 kB)\n",
      "Requirement already satisfied: python-dateutil>=2.8.2 in /home/sergeyer/mambaforge/envs/prots/lib/python3.10/site-packages (from pandas) (2.8.2)\n",
      "Requirement already satisfied: pytz>=2020.1 in /home/sergeyer/mambaforge/envs/prots/lib/python3.10/site-packages (from pandas) (2023.3.post1)\n",
      "Requirement already satisfied: tzdata>=2022.7 in /home/sergeyer/mambaforge/envs/prots/lib/python3.10/site-packages (from pandas) (2023.4)\n",
      "Requirement already satisfied: scipy>=1.6.0 in /home/sergeyer/mambaforge/envs/prots/lib/python3.10/site-packages (from scikit-learn) (1.12.0)\n",
      "Requirement already satisfied: joblib>=1.2.0 in /home/sergeyer/mambaforge/envs/prots/lib/python3.10/site-packages (from scikit-learn) (1.3.2)\n",
      "Requirement already satisfied: threadpoolctl>=2.0.0 in /home/sergeyer/mambaforge/envs/prots/lib/python3.10/site-packages (from scikit-learn) (3.2.0)\n",
      "Requirement already satisfied: packaging in /home/sergeyer/mambaforge/envs/prots/lib/python3.10/site-packages (from tensorboardX) (23.2)\n",
      "Collecting protobuf>=3.20 (from tensorboardX)\n",
      "  Downloading protobuf-4.25.2-cp37-abi3-manylinux2014_x86_64.whl.metadata (541 bytes)\n",
      "Requirement already satisfied: six>=1.5 in /home/sergeyer/mambaforge/envs/prots/lib/python3.10/site-packages (from python-dateutil>=2.8.2->pandas) (1.16.0)\n",
      "Downloading tensorboardX-2.6.2.2-py2.py3-none-any.whl (101 kB)\n",
      "\u001b[2K   \u001b[90m━━━━━━━━━━━━━━━━━━━━━━━━━━━━━━━━━━━━━━━━\u001b[0m \u001b[32m101.7/101.7 kB\u001b[0m \u001b[31m2.7 MB/s\u001b[0m eta \u001b[36m0:00:00\u001b[0ma \u001b[36m0:00:01\u001b[0m\n",
      "\u001b[?25hDownloading protobuf-4.25.2-cp37-abi3-manylinux2014_x86_64.whl (294 kB)\n",
      "\u001b[2K   \u001b[90m━━━━━━━━━━━━━━━━━━━━━━━━━━━━━━━━━━━━━━━━\u001b[0m \u001b[32m294.6/294.6 kB\u001b[0m \u001b[31m2.7 MB/s\u001b[0m eta \u001b[36m0:00:00\u001b[0ma \u001b[36m0:00:01\u001b[0m\n",
      "\u001b[?25hInstalling collected packages: protobuf, tensorboardX\n",
      "Successfully installed protobuf-4.25.2 tensorboardX-2.6.2.2\n"
     ]
    }
   ],
   "source": [
    "#!pip install torch pandas numpy h5py tqdm scikit-learn tensorboard"
   ]
  },
  {
   "cell_type": "code",
   "execution_count": 13,
   "metadata": {},
   "outputs": [
    {
     "name": "stdout",
     "output_type": "stream",
     "text": [
      "The autoreload extension is already loaded. To reload it, use:\n",
      "  %reload_ext autoreload\n"
     ]
    }
   ],
   "source": [
    "%load_ext autoreload\n",
    "%autoreload 2\n",
    "\n",
    "import pandas as pd\n",
    "from sklearn.model_selection import train_test_split\n",
    "from sklearn.preprocessing import StandardScaler\n",
    "import joblib\n",
    "from src.dataset import ProteinDataset\n",
    "from src.utils import train_model, test_model\n",
    "import torch\n",
    "from src.model import ChemicalShiftsPredictor, ChemicalShiftsPredictorAttention"
   ]
  },
  {
   "cell_type": "code",
   "execution_count": 37,
   "metadata": {},
   "outputs": [],
   "source": [
    "# Load and prepare data\n",
    "csv_file = 'data/strict.csv'\n",
    "prott5_file = 'data/embeddings/unfiltered_all_prott5.h5'\n",
    "prott5_res_file = 'data/embeddings/unfiltered_all_prott5_res.h5'\n",
    "prostt5_file = 'data/embeddings/prostt5.h5'\n",
    "esm_file = 'data/embeddings/unfiltered_all_esm2_3b.h5'\n",
    "esm_res_file = 'data/embeddings/unfiltered_all_esm2_3b_res.h5'\n",
    "chemical_shifts_df = pd.read_csv(csv_file)\n",
    "#chemical_shifts_df.describe()"
   ]
  },
  {
   "cell_type": "code",
   "execution_count": 15,
   "metadata": {},
   "outputs": [],
   "source": [
    "test_ids = []\n",
    "with open(\"pdb_matched/final_test_ids.txt\", \"r\") as f:\n",
    "    for line in f:\n",
    "        test_ids.append(line.strip())"
   ]
  },
  {
   "cell_type": "code",
   "execution_count": 16,
   "metadata": {},
   "outputs": [],
   "source": [
    "all_ucb_predictions = pd.read_csv(\"all_ucb_predictions.csv\")"
   ]
  },
  {
   "cell_type": "code",
   "execution_count": 39,
   "metadata": {},
   "outputs": [
    {
     "data": {
      "text/html": [
       "<div>\n",
       "<style scoped>\n",
       "    .dataframe tbody tr th:only-of-type {\n",
       "        vertical-align: middle;\n",
       "    }\n",
       "\n",
       "    .dataframe tbody tr th {\n",
       "        vertical-align: top;\n",
       "    }\n",
       "\n",
       "    .dataframe thead th {\n",
       "        text-align: right;\n",
       "    }\n",
       "</style>\n",
       "<table border=\"1\" class=\"dataframe\">\n",
       "  <thead>\n",
       "    <tr style=\"text-align: right;\">\n",
       "      <th></th>\n",
       "      <th>Unnamed: 0</th>\n",
       "      <th>ID</th>\n",
       "      <th>entryID</th>\n",
       "      <th>stID</th>\n",
       "      <th>entity_assemID</th>\n",
       "      <th>entityID</th>\n",
       "      <th>seq_index</th>\n",
       "      <th>seq</th>\n",
       "      <th>k</th>\n",
       "      <th>zscores</th>\n",
       "      <th>pscores</th>\n",
       "      <th>C</th>\n",
       "      <th>CA</th>\n",
       "      <th>CB</th>\n",
       "      <th>HA</th>\n",
       "      <th>H</th>\n",
       "      <th>N</th>\n",
       "      <th>HB</th>\n",
       "    </tr>\n",
       "  </thead>\n",
       "  <tbody>\n",
       "    <tr>\n",
       "      <th>447</th>\n",
       "      <td>6</td>\n",
       "      <td>30161_1_1_1</td>\n",
       "      <td>30161</td>\n",
       "      <td>1</td>\n",
       "      <td>1</td>\n",
       "      <td>1</td>\n",
       "      <td>1</td>\n",
       "      <td>M</td>\n",
       "      <td>7</td>\n",
       "      <td>NaN</td>\n",
       "      <td>NaN</td>\n",
       "      <td>175.986</td>\n",
       "      <td>55.600</td>\n",
       "      <td>33.138</td>\n",
       "      <td>4.401</td>\n",
       "      <td>NaN</td>\n",
       "      <td>121.816</td>\n",
       "      <td>1.9350</td>\n",
       "    </tr>\n",
       "    <tr>\n",
       "      <th>448</th>\n",
       "      <td>6</td>\n",
       "      <td>30161_1_1_1</td>\n",
       "      <td>30161</td>\n",
       "      <td>1</td>\n",
       "      <td>1</td>\n",
       "      <td>1</td>\n",
       "      <td>2</td>\n",
       "      <td>I</td>\n",
       "      <td>14</td>\n",
       "      <td>11.1609</td>\n",
       "      <td>0.0947</td>\n",
       "      <td>174.316</td>\n",
       "      <td>61.588</td>\n",
       "      <td>38.193</td>\n",
       "      <td>3.830</td>\n",
       "      <td>8.107</td>\n",
       "      <td>123.431</td>\n",
       "      <td>1.7160</td>\n",
       "    </tr>\n",
       "    <tr>\n",
       "      <th>449</th>\n",
       "      <td>6</td>\n",
       "      <td>30161_1_1_1</td>\n",
       "      <td>30161</td>\n",
       "      <td>1</td>\n",
       "      <td>1</td>\n",
       "      <td>1</td>\n",
       "      <td>3</td>\n",
       "      <td>R</td>\n",
       "      <td>21</td>\n",
       "      <td>14.1291</td>\n",
       "      <td>0.0736</td>\n",
       "      <td>176.156</td>\n",
       "      <td>57.343</td>\n",
       "      <td>32.755</td>\n",
       "      <td>4.716</td>\n",
       "      <td>9.806</td>\n",
       "      <td>127.627</td>\n",
       "      <td>1.8845</td>\n",
       "    </tr>\n",
       "    <tr>\n",
       "      <th>450</th>\n",
       "      <td>6</td>\n",
       "      <td>30161_1_1_1</td>\n",
       "      <td>30161</td>\n",
       "      <td>1</td>\n",
       "      <td>1</td>\n",
       "      <td>1</td>\n",
       "      <td>4</td>\n",
       "      <td>T</td>\n",
       "      <td>21</td>\n",
       "      <td>15.1705</td>\n",
       "      <td>0.0332</td>\n",
       "      <td>173.925</td>\n",
       "      <td>58.964</td>\n",
       "      <td>71.096</td>\n",
       "      <td>5.291</td>\n",
       "      <td>8.631</td>\n",
       "      <td>110.835</td>\n",
       "      <td>4.3560</td>\n",
       "    </tr>\n",
       "    <tr>\n",
       "      <th>451</th>\n",
       "      <td>6</td>\n",
       "      <td>30161_1_1_1</td>\n",
       "      <td>30161</td>\n",
       "      <td>1</td>\n",
       "      <td>1</td>\n",
       "      <td>1</td>\n",
       "      <td>5</td>\n",
       "      <td>I</td>\n",
       "      <td>21</td>\n",
       "      <td>14.7280</td>\n",
       "      <td>0.0497</td>\n",
       "      <td>173.317</td>\n",
       "      <td>59.542</td>\n",
       "      <td>43.057</td>\n",
       "      <td>4.875</td>\n",
       "      <td>8.368</td>\n",
       "      <td>120.009</td>\n",
       "      <td>1.2950</td>\n",
       "    </tr>\n",
       "    <tr>\n",
       "      <th>...</th>\n",
       "      <td>...</td>\n",
       "      <td>...</td>\n",
       "      <td>...</td>\n",
       "      <td>...</td>\n",
       "      <td>...</td>\n",
       "      <td>...</td>\n",
       "      <td>...</td>\n",
       "      <td>...</td>\n",
       "      <td>...</td>\n",
       "      <td>...</td>\n",
       "      <td>...</td>\n",
       "      <td>...</td>\n",
       "      <td>...</td>\n",
       "      <td>...</td>\n",
       "      <td>...</td>\n",
       "      <td>...</td>\n",
       "      <td>...</td>\n",
       "      <td>...</td>\n",
       "    </tr>\n",
       "    <tr>\n",
       "      <th>215543</th>\n",
       "      <td>1893</td>\n",
       "      <td>36334_1_1_1</td>\n",
       "      <td>36334</td>\n",
       "      <td>1</td>\n",
       "      <td>1</td>\n",
       "      <td>1</td>\n",
       "      <td>106</td>\n",
       "      <td>H</td>\n",
       "      <td>1</td>\n",
       "      <td>3.8761</td>\n",
       "      <td>0.0000</td>\n",
       "      <td>NaN</td>\n",
       "      <td>NaN</td>\n",
       "      <td>NaN</td>\n",
       "      <td>NaN</td>\n",
       "      <td>NaN</td>\n",
       "      <td>NaN</td>\n",
       "      <td>NaN</td>\n",
       "    </tr>\n",
       "    <tr>\n",
       "      <th>215544</th>\n",
       "      <td>1893</td>\n",
       "      <td>36334_1_1_1</td>\n",
       "      <td>36334</td>\n",
       "      <td>1</td>\n",
       "      <td>1</td>\n",
       "      <td>1</td>\n",
       "      <td>107</td>\n",
       "      <td>H</td>\n",
       "      <td>2</td>\n",
       "      <td>2.3427</td>\n",
       "      <td>0.4918</td>\n",
       "      <td>NaN</td>\n",
       "      <td>NaN</td>\n",
       "      <td>NaN</td>\n",
       "      <td>NaN</td>\n",
       "      <td>NaN</td>\n",
       "      <td>NaN</td>\n",
       "      <td>NaN</td>\n",
       "    </tr>\n",
       "    <tr>\n",
       "      <th>215545</th>\n",
       "      <td>1893</td>\n",
       "      <td>36334_1_1_1</td>\n",
       "      <td>36334</td>\n",
       "      <td>1</td>\n",
       "      <td>1</td>\n",
       "      <td>1</td>\n",
       "      <td>108</td>\n",
       "      <td>H</td>\n",
       "      <td>2</td>\n",
       "      <td>2.3427</td>\n",
       "      <td>0.4918</td>\n",
       "      <td>NaN</td>\n",
       "      <td>NaN</td>\n",
       "      <td>30.053</td>\n",
       "      <td>NaN</td>\n",
       "      <td>8.212</td>\n",
       "      <td>NaN</td>\n",
       "      <td>NaN</td>\n",
       "    </tr>\n",
       "    <tr>\n",
       "      <th>215546</th>\n",
       "      <td>1893</td>\n",
       "      <td>36334_1_1_1</td>\n",
       "      <td>36334</td>\n",
       "      <td>1</td>\n",
       "      <td>1</td>\n",
       "      <td>1</td>\n",
       "      <td>109</td>\n",
       "      <td>H</td>\n",
       "      <td>2</td>\n",
       "      <td>NaN</td>\n",
       "      <td>NaN</td>\n",
       "      <td>NaN</td>\n",
       "      <td>NaN</td>\n",
       "      <td>NaN</td>\n",
       "      <td>NaN</td>\n",
       "      <td>NaN</td>\n",
       "      <td>NaN</td>\n",
       "      <td>NaN</td>\n",
       "    </tr>\n",
       "    <tr>\n",
       "      <th>215547</th>\n",
       "      <td>1893</td>\n",
       "      <td>36334_1_1_1</td>\n",
       "      <td>36334</td>\n",
       "      <td>1</td>\n",
       "      <td>1</td>\n",
       "      <td>1</td>\n",
       "      <td>110</td>\n",
       "      <td>H</td>\n",
       "      <td>0</td>\n",
       "      <td>NaN</td>\n",
       "      <td>NaN</td>\n",
       "      <td>NaN</td>\n",
       "      <td>NaN</td>\n",
       "      <td>NaN</td>\n",
       "      <td>NaN</td>\n",
       "      <td>NaN</td>\n",
       "      <td>NaN</td>\n",
       "      <td>NaN</td>\n",
       "    </tr>\n",
       "  </tbody>\n",
       "</table>\n",
       "<p>12892 rows × 18 columns</p>\n",
       "</div>"
      ],
      "text/plain": [
       "        Unnamed: 0           ID  entryID  stID  entity_assemID  entityID  \\\n",
       "447              6  30161_1_1_1    30161     1               1         1   \n",
       "448              6  30161_1_1_1    30161     1               1         1   \n",
       "449              6  30161_1_1_1    30161     1               1         1   \n",
       "450              6  30161_1_1_1    30161     1               1         1   \n",
       "451              6  30161_1_1_1    30161     1               1         1   \n",
       "...            ...          ...      ...   ...             ...       ...   \n",
       "215543        1893  36334_1_1_1    36334     1               1         1   \n",
       "215544        1893  36334_1_1_1    36334     1               1         1   \n",
       "215545        1893  36334_1_1_1    36334     1               1         1   \n",
       "215546        1893  36334_1_1_1    36334     1               1         1   \n",
       "215547        1893  36334_1_1_1    36334     1               1         1   \n",
       "\n",
       "        seq_index seq   k  zscores  pscores        C      CA      CB     HA  \\\n",
       "447             1   M   7      NaN      NaN  175.986  55.600  33.138  4.401   \n",
       "448             2   I  14  11.1609   0.0947  174.316  61.588  38.193  3.830   \n",
       "449             3   R  21  14.1291   0.0736  176.156  57.343  32.755  4.716   \n",
       "450             4   T  21  15.1705   0.0332  173.925  58.964  71.096  5.291   \n",
       "451             5   I  21  14.7280   0.0497  173.317  59.542  43.057  4.875   \n",
       "...           ...  ..  ..      ...      ...      ...     ...     ...    ...   \n",
       "215543        106   H   1   3.8761   0.0000      NaN     NaN     NaN    NaN   \n",
       "215544        107   H   2   2.3427   0.4918      NaN     NaN     NaN    NaN   \n",
       "215545        108   H   2   2.3427   0.4918      NaN     NaN  30.053    NaN   \n",
       "215546        109   H   2      NaN      NaN      NaN     NaN     NaN    NaN   \n",
       "215547        110   H   0      NaN      NaN      NaN     NaN     NaN    NaN   \n",
       "\n",
       "            H        N      HB  \n",
       "447       NaN  121.816  1.9350  \n",
       "448     8.107  123.431  1.7160  \n",
       "449     9.806  127.627  1.8845  \n",
       "450     8.631  110.835  4.3560  \n",
       "451     8.368  120.009  1.2950  \n",
       "...       ...      ...     ...  \n",
       "215543    NaN      NaN     NaN  \n",
       "215544    NaN      NaN     NaN  \n",
       "215545  8.212      NaN     NaN  \n",
       "215546    NaN      NaN     NaN  \n",
       "215547    NaN      NaN     NaN  \n",
       "\n",
       "[12892 rows x 18 columns]"
      ]
     },
     "execution_count": 39,
     "metadata": {},
     "output_type": "execute_result"
    }
   ],
   "source": [
    "chemical_shifts_df[chemical_shifts_df['ID'].isin(test_ids)]"
   ]
  },
  {
   "cell_type": "code",
   "execution_count": 33,
   "metadata": {},
   "outputs": [],
   "source": [
    "# join ucb predictions and chemical shifts dataframes on ID and seq_index\n",
    "joined = pd.merge(chemical_shifts_df, all_ucb_predictions, on=['ID', 'seq_index'], how='inner', suffixes=('', '_ucb'))"
   ]
  },
  {
   "cell_type": "code",
   "execution_count": null,
   "metadata": {},
   "outputs": [],
   "source": []
  },
  {
   "cell_type": "code",
   "execution_count": 35,
   "metadata": {},
   "outputs": [],
   "source": [
    "#drop na based on columns N, N_ucb\n",
    "joined = joined.dropna(subset=['N', 'N_ucb'], axis=0)"
   ]
  },
  {
   "cell_type": "code",
   "execution_count": 36,
   "metadata": {},
   "outputs": [
    {
     "data": {
      "text/plain": [
       "11341"
      ]
     },
     "execution_count": 36,
     "metadata": {},
     "output_type": "execute_result"
    }
   ],
   "source": [
    "len(joined)"
   ]
  },
  {
   "cell_type": "code",
   "execution_count": 19,
   "metadata": {},
   "outputs": [
    {
     "data": {
      "text/plain": [
       "2.7436470325525435"
      ]
     },
     "execution_count": 19,
     "metadata": {},
     "output_type": "execute_result"
    }
   ],
   "source": [
    "# calculate RMSE error between N and N_ucb\n",
    "rmse = ((joined['N'] - joined['N_ucb']) ** 2).mean() ** .5\n",
    "rmse\n"
   ]
  },
  {
   "cell_type": "code",
   "execution_count": 20,
   "metadata": {},
   "outputs": [],
   "source": [
    "chemical_shifts_df = chemical_shifts_df[chemical_shifts_df['ID'].isin(test_ids)]"
   ]
  },
  {
   "cell_type": "code",
   "execution_count": 29,
   "metadata": {},
   "outputs": [],
   "source": [
    "scaler_applied = False"
   ]
  },
  {
   "cell_type": "code",
   "execution_count": 30,
   "metadata": {},
   "outputs": [],
   "source": [
    "#target_columns = ['C', 'CA', 'CB', 'HA', 'H', 'N', 'HB']\n",
    "target_columns = ['N']\n",
    "chemical_shifts_df.dropna(inplace=True, subset=target_columns)\n",
    "\n",
    "\n",
    "scaler = joblib.load('scaler.joblib')\n",
    "means = scaler.mean_\n",
    "stds = scaler.scale_\n",
    "\n",
    "# Apply normalization to the training targets\n",
    "#train_df[target_columns] = scaler.transform(train_targets)\n",
    "\n",
    "# Apply the same normalization to validation and test sets\n",
    "# val_df[target_columns] = scaler.transform(val_df[target_columns])\n",
    "# test_df[target_columns] = scaler.transform(test_df[target_columns])\n",
    "\n",
    "# Create datasets\n",
    "if not scaler_applied:\n",
    "    chemical_shifts_df[target_columns] = scaler.transform(chemical_shifts_df[target_columns])\n",
    "    joined[target_columns] = scaler.transform(joined[target_columns])\n",
    "    scaler_applied = True\n",
    "test_dataset = ProteinDataset(target_columns, joined, prott5_file, prott5_res_file, prostt5_file, esm_res_file, esm_file)"
   ]
  },
  {
   "cell_type": "code",
   "execution_count": 23,
   "metadata": {},
   "outputs": [
    {
     "name": "stdout",
     "output_type": "stream",
     "text": [
      "Test dataset length: 11341\n"
     ]
    }
   ],
   "source": [
    "print('Test dataset length:', len(test_dataset))"
   ]
  },
  {
   "cell_type": "code",
   "execution_count": 24,
   "metadata": {},
   "outputs": [],
   "source": [
    "learning_rate = 0.001\n",
    "weight_decay = 1e-5\n",
    "patience = 10\n",
    "batch_size = 128\n",
    "num_epochs = 5\n",
    "\n",
    "use_prostt5 = True\n",
    "use_protein_mean = True\n",
    "use_attention = True"
   ]
  },
  {
   "cell_type": "code",
   "execution_count": 25,
   "metadata": {},
   "outputs": [],
   "source": [
    "model = ChemicalShiftsPredictor(use_prostt5=use_prostt5, use_protein_mean=use_protein_mean, use_attention=use_attention)\n",
    "model.load_state_dict(torch.load('Full_1e-4.pth'))\n",
    "\n",
    "model = model.cuda()"
   ]
  },
  {
   "cell_type": "code",
   "execution_count": 31,
   "metadata": {},
   "outputs": [
    {
     "name": "stderr",
     "output_type": "stream",
     "text": [
      "  0%|          | 0/89 [00:00<?, ?it/s]"
     ]
    },
    {
     "name": "stderr",
     "output_type": "stream",
     "text": [
      "100%|██████████| 89/89 [00:10<00:00,  8.39it/s]"
     ]
    },
    {
     "name": "stdout",
     "output_type": "stream",
     "text": [
      "Test Loss: 0.3460\n",
      "Test RMSE: 2.9873\n"
     ]
    },
    {
     "name": "stderr",
     "output_type": "stream",
     "text": [
      "\n"
     ]
    }
   ],
   "source": [
    "test_model(model, test_dataset, batch_size=batch_size, use_prostt5=use_prostt5, use_protein_mean=use_protein_mean, use_attention=use_attention, reinit_model=False, scaler=scaler)"
   ]
  },
  {
   "cell_type": "code",
   "execution_count": 29,
   "metadata": {},
   "outputs": [],
   "source": [
    "import os\n",
    "\n",
    "ucb_predictions = {}\n",
    "\n",
    "for filename in os.listdir(\"output_ucb\"):\n",
    "    file_path = os.path.join(\"output_ucb\", filename)\n",
    "    id = filename.split(';')[0]\n",
    "    ucb_predictions[id] = pd.read_csv(file_path)"
   ]
  },
  {
   "cell_type": "code",
   "execution_count": 27,
   "metadata": {},
   "outputs": [],
   "source": [
    "three_to_one = {\n",
    "    'ALA': 'A', 'ARG': 'R', 'ASN': 'N', 'ASP': 'D', 'CYS': 'C', \n",
    "    'GLU': 'E', 'GLN': 'Q', 'GLY': 'G', 'HIS': 'H', 'ILE': 'I', \n",
    "    'LEU': 'L', 'LYS': 'K', 'MET': 'M', 'PHE': 'F', 'PRO': 'P', \n",
    "    'SER': 'S', 'THR': 'T', 'TRP': 'W', 'TYR': 'Y', 'VAL': 'V',\n",
    "}\n",
    "\n",
    "def process_ucb_output(dataframe, id):\n",
    "    new_columns = {}\n",
    "    new_columns[\"ID\"] = id\n",
    "    new_columns['seq_index'] = dataframe[\"RESNUM\"] - min(dataframe[\"RESNUM\"]) + 1\n",
    "    new_columns['seq'] = [three_to_one[res] for res in dataframe[\"RESNAME\"]]\n",
    "    new_columns['H'] = dataframe[\"H_UCBShift\"]\n",
    "    new_columns['N'] = dataframe[\"N_UCBShift\"]\n",
    "    new_df = pd.DataFrame(new_columns)\n",
    "    return new_df"
   ]
  },
  {
   "cell_type": "code",
   "execution_count": 32,
   "metadata": {},
   "outputs": [],
   "source": [
    "process_ucb_output(ucb_predictions['34695_1_1_1'], '34695_1_1_1')\n",
    "\n",
    "# process all ucb predictions, make single dataframe\n",
    "all_ucb_predictions = []\n",
    "for id, dataframe in ucb_predictions.items():\n",
    "    all_ucb_predictions.append(process_ucb_output(dataframe, id))\n",
    "    \n",
    "all_ucb_predictions = pd.concat(all_ucb_predictions)"
   ]
  },
  {
   "cell_type": "code",
   "execution_count": 34,
   "metadata": {},
   "outputs": [],
   "source": [
    "all_ucb_predictions.to_csv('all_ucb_predictions.csv', index=False)"
   ]
  },
  {
   "cell_type": "code",
   "execution_count": null,
   "metadata": {},
   "outputs": [],
   "source": [
    "torch.cuda.empty_cache()\n",
    "trained_model = train_model(train_dataset, val_dataset, learning_rate=learning_rate, num_epochs=50, weight_decay=weight_decay, patience=patience, batch_size=2048, use_prostt5=True, use_protein_mean=True, use_esm2=False)\n",
    "test_model(trained_model, test_dataset, batch_size=batch_size, use_prostt5=True, use_protein_mean=True, use_esm2=False)"
   ]
  },
  {
   "cell_type": "code",
   "execution_count": null,
   "metadata": {},
   "outputs": [],
   "source": []
  }
 ],
 "metadata": {
  "kernelspec": {
   "display_name": ".venv",
   "language": "python",
   "name": "python3"
  },
  "language_info": {
   "codemirror_mode": {
    "name": "ipython",
    "version": 3
   },
   "file_extension": ".py",
   "mimetype": "text/x-python",
   "name": "python",
   "nbconvert_exporter": "python",
   "pygments_lexer": "ipython3",
   "version": "3.10.13"
  }
 },
 "nbformat": 4,
 "nbformat_minor": 2
}
