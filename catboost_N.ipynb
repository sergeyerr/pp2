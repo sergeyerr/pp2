{
 "cells": [
  {
   "cell_type": "code",
   "execution_count": 15,
   "metadata": {},
   "outputs": [],
   "source": [
    "import pandas as pd\n",
    "from sklearn.model_selection import train_test_split\n",
    "from sklearn.preprocessing import StandardScaler\n",
    "import joblib\n",
    "from src.dataset import ProteinDataset\n",
    "from src.utils import train_model, test_model\n",
    "import torch\n",
    "from src.model import ChemicalShiftsPredictor, ChemicalShiftsPredictorAttention\n",
    "from src.utils import packed_padded_collate\n",
    "\n",
    "from tqdm.notebook import tqdm\n",
    "from catboost import CatBoostRegressor\n",
    "\n",
    "from torch.utils.data import DataLoader\n",
    "from torch.nn.utils.rnn import pad_sequence\n",
    "import numpy as np\n",
    "import h5py"
   ]
  },
  {
   "cell_type": "code",
   "execution_count": 16,
   "metadata": {},
   "outputs": [],
   "source": [
    "# Load and prepare data\n",
    "csv_file = 'data/strict.csv'\n",
    "prott5_file = 'data/embeddings/unfiltered_all_prott5.h5'\n",
    "prott5_res_file = 'data/embeddings/unfiltered_all_prott5_res.h5'\n",
    "prostt5_file = 'data/embeddings/prostt5.h5'\n",
    "esm_file = 'data/embeddings/unfiltered_all_esm2_3b.h5'\n",
    "esm_res_file = 'data/embeddings/unfiltered_all_esm2_3b_res.h5'\n",
    "chemical_shifts_df = pd.read_csv(csv_file)\n",
    "#chemical_shifts_df.describe()"
   ]
  },
  {
   "cell_type": "code",
   "execution_count": 3,
   "metadata": {},
   "outputs": [],
   "source": [
    "test_ids = []\n",
    "with open(\"pdb_matched/final_test_ids.txt\", \"r\") as f:\n",
    "    for line in f:\n",
    "        test_ids.append(line.strip())"
   ]
  },
  {
   "cell_type": "code",
   "execution_count": 4,
   "metadata": {},
   "outputs": [],
   "source": [
    "chemical_shifts_df = chemical_shifts_df[~chemical_shifts_df['ID'].isin(test_ids)]"
   ]
  },
  {
   "cell_type": "code",
   "execution_count": 5,
   "metadata": {},
   "outputs": [],
   "source": [
    "chemical_shifts_df.dropna(inplace=True, subset=[\"N\"])"
   ]
  },
  {
   "cell_type": "code",
   "execution_count": 6,
   "metadata": {},
   "outputs": [],
   "source": [
    "# split dataset into train and test, based on unique protein IDs\n",
    "ids = chemical_shifts_df['ID'].unique()\n",
    "train_ids, test_ids = train_test_split(ids, test_size=0.2, random_state=42)\n",
    "train_df = chemical_shifts_df[chemical_shifts_df['ID'].isin(train_ids)]\n",
    "val_df = chemical_shifts_df[chemical_shifts_df['ID'].isin(test_ids)]"
   ]
  },
  {
   "cell_type": "code",
   "execution_count": 7,
   "metadata": {},
   "outputs": [],
   "source": [
    "prostt5_embs = h5py.File(prostt5_file, \"r\")\n",
    "prott5_embs = h5py.File(prott5_file, \"r\")"
   ]
  },
  {
   "cell_type": "code",
   "execution_count": 8,
   "metadata": {},
   "outputs": [
    {
     "data": {
      "application/vnd.jupyter.widget-view+json": {
       "model_id": "6ebe4b2962384877bc29b93031a50466",
       "version_major": 2,
       "version_minor": 0
      },
      "text/plain": [
       "  0%|          | 0/144973 [00:00<?, ?it/s]"
      ]
     },
     "metadata": {},
     "output_type": "display_data"
    }
   ],
   "source": [
    "# get prosst5 embeddings for train and test\n",
    "train_X = []\n",
    "for row in tqdm(train_df.itertuples(), total=len(train_df)):\n",
    "    protein_id = row.ID\n",
    "    amino_acid_index = row.seq_index - 1  # Adjust for zero-based indexing\n",
    "    amino_acid_prostt5_emb = prostt5_embs[protein_id][amino_acid_index]\n",
    "    \n",
    "    prot_emb = prott5_embs[protein_id]\n",
    "    \n",
    "    train_X.append(np.concatenate([amino_acid_prostt5_emb.flatten(), np.array(prot_emb).flatten()], axis=0))"
   ]
  },
  {
   "cell_type": "code",
   "execution_count": 9,
   "metadata": {},
   "outputs": [
    {
     "data": {
      "application/vnd.jupyter.widget-view+json": {
       "model_id": "7da18290fe894dc8bb8afec15d3cac2d",
       "version_major": 2,
       "version_minor": 0
      },
      "text/plain": [
       "  0%|          | 0/35552 [00:00<?, ?it/s]"
      ]
     },
     "metadata": {},
     "output_type": "display_data"
    }
   ],
   "source": [
    "val_X = []\n",
    "for row in tqdm(val_df.itertuples(), total=len(val_df)):\n",
    "    protein_id = row.ID\n",
    "    amino_acid_index = row.seq_index - 1  # Adjust for zero-based indexing\n",
    "    amino_acid_prostt5_emb = prostt5_embs[protein_id][amino_acid_index]\n",
    "    \n",
    "    prot_emb = prott5_embs[protein_id]\n",
    "    \n",
    "    val_X.append(np.concatenate([amino_acid_prostt5_emb.flatten(), np.array(prot_emb).flatten()], axis=0))\n"
   ]
  },
  {
   "cell_type": "code",
   "execution_count": 10,
   "metadata": {},
   "outputs": [],
   "source": [
    "train_y = list(train_df['N'].values)\n",
    "val_y = list(val_df['N'].values)"
   ]
  },
  {
   "cell_type": "code",
   "execution_count": 11,
   "metadata": {},
   "outputs": [
    {
     "name": "stdout",
     "output_type": "stream",
     "text": [
      "Learning rate set to 0.030523\n",
      "0:\tlearn: 5.2975633\ttotal: 73.3ms\tremaining: 6m 6s\n",
      "100:\tlearn: 4.1637325\ttotal: 5.71s\tremaining: 4m 37s\n",
      "200:\tlearn: 3.9110293\ttotal: 11.1s\tremaining: 4m 25s\n",
      "300:\tlearn: 3.7702555\ttotal: 16.4s\tremaining: 4m 15s\n",
      "400:\tlearn: 3.6732836\ttotal: 21.6s\tremaining: 4m 7s\n",
      "500:\tlearn: 3.5970768\ttotal: 26.6s\tremaining: 3m 59s\n",
      "600:\tlearn: 3.5351912\ttotal: 31.8s\tremaining: 3m 52s\n",
      "700:\tlearn: 3.4825807\ttotal: 36.7s\tremaining: 3m 45s\n",
      "800:\tlearn: 3.4366652\ttotal: 41.7s\tremaining: 3m 38s\n",
      "900:\tlearn: 3.3953289\ttotal: 46.6s\tremaining: 3m 31s\n",
      "1000:\tlearn: 3.3588755\ttotal: 51.4s\tremaining: 3m 25s\n",
      "1100:\tlearn: 3.3235910\ttotal: 56.2s\tremaining: 3m 19s\n",
      "1200:\tlearn: 3.2919361\ttotal: 1m 1s\tremaining: 3m 13s\n",
      "1300:\tlearn: 3.2614805\ttotal: 1m 6s\tremaining: 3m 7s\n",
      "1400:\tlearn: 3.2341506\ttotal: 1m 11s\tremaining: 3m 2s\n",
      "1500:\tlearn: 3.2084596\ttotal: 1m 15s\tremaining: 2m 56s\n",
      "1600:\tlearn: 3.1834049\ttotal: 1m 20s\tremaining: 2m 51s\n",
      "1700:\tlearn: 3.1594728\ttotal: 1m 25s\tremaining: 2m 46s\n",
      "1800:\tlearn: 3.1369664\ttotal: 1m 30s\tremaining: 2m 41s\n",
      "1900:\tlearn: 3.1161126\ttotal: 1m 35s\tremaining: 2m 35s\n",
      "2000:\tlearn: 3.0958627\ttotal: 1m 40s\tremaining: 2m 30s\n",
      "2100:\tlearn: 3.0762516\ttotal: 1m 45s\tremaining: 2m 25s\n",
      "2200:\tlearn: 3.0575976\ttotal: 1m 50s\tremaining: 2m 20s\n",
      "2300:\tlearn: 3.0393542\ttotal: 1m 55s\tremaining: 2m 15s\n",
      "2400:\tlearn: 3.0213295\ttotal: 2m\tremaining: 2m 10s\n",
      "2500:\tlearn: 3.0032252\ttotal: 2m 5s\tremaining: 2m 4s\n",
      "2600:\tlearn: 2.9871198\ttotal: 2m 9s\tremaining: 1m 59s\n",
      "2700:\tlearn: 2.9702481\ttotal: 2m 14s\tremaining: 1m 54s\n",
      "2800:\tlearn: 2.9543960\ttotal: 2m 19s\tremaining: 1m 49s\n",
      "2900:\tlearn: 2.9392226\ttotal: 2m 24s\tremaining: 1m 44s\n",
      "3000:\tlearn: 2.9247261\ttotal: 2m 28s\tremaining: 1m 39s\n",
      "3100:\tlearn: 2.9095402\ttotal: 2m 33s\tremaining: 1m 34s\n",
      "3200:\tlearn: 2.8947176\ttotal: 2m 38s\tremaining: 1m 29s\n",
      "3300:\tlearn: 2.8808004\ttotal: 2m 43s\tremaining: 1m 24s\n",
      "3400:\tlearn: 2.8669354\ttotal: 2m 48s\tremaining: 1m 19s\n",
      "3500:\tlearn: 2.8537879\ttotal: 2m 53s\tremaining: 1m 14s\n",
      "3600:\tlearn: 2.8404474\ttotal: 2m 58s\tremaining: 1m 9s\n",
      "3700:\tlearn: 2.8273155\ttotal: 3m 3s\tremaining: 1m 4s\n",
      "3800:\tlearn: 2.8146791\ttotal: 3m 8s\tremaining: 59.5s\n",
      "3900:\tlearn: 2.8022071\ttotal: 3m 13s\tremaining: 54.6s\n",
      "4000:\tlearn: 2.7903995\ttotal: 3m 18s\tremaining: 49.7s\n",
      "4100:\tlearn: 2.7781489\ttotal: 3m 24s\tremaining: 44.7s\n",
      "4200:\tlearn: 2.7660364\ttotal: 3m 29s\tremaining: 39.9s\n",
      "4300:\tlearn: 2.7545614\ttotal: 3m 34s\tremaining: 34.9s\n",
      "4400:\tlearn: 2.7432691\ttotal: 3m 39s\tremaining: 29.9s\n",
      "4500:\tlearn: 2.7317499\ttotal: 3m 44s\tremaining: 24.9s\n",
      "4600:\tlearn: 2.7206422\ttotal: 3m 49s\tremaining: 19.9s\n",
      "4700:\tlearn: 2.7098435\ttotal: 3m 55s\tremaining: 15s\n",
      "4800:\tlearn: 2.6985009\ttotal: 4m\tremaining: 9.97s\n",
      "4900:\tlearn: 2.6878460\ttotal: 4m 5s\tremaining: 4.97s\n",
      "4999:\tlearn: 2.6774195\ttotal: 4m 11s\tremaining: 0us\n"
     ]
    },
    {
     "data": {
      "text/plain": [
       "<catboost.core.CatBoostRegressor at 0x7f5c85ae18a0>"
      ]
     },
     "execution_count": 11,
     "metadata": {},
     "output_type": "execute_result"
    }
   ],
   "source": [
    "# model = CatBoostRegressor(iterations=2000,\n",
    "#                            task_type=\"GPU\", loss_function='RMSEWithUncertainty', posterior_sampling=True)\n",
    "model = CatBoostRegressor(iterations=5000, task_type=\"GPU\")\n",
    "model.fit(train_X + val_X, train_y + val_y, verbose=100)"
   ]
  },
  {
   "cell_type": "code",
   "execution_count": 12,
   "metadata": {},
   "outputs": [],
   "source": [
    "model.save_model(\"models/n_catboost_prostt5_5000iter.cbm\")"
   ]
  },
  {
   "cell_type": "code",
   "execution_count": 17,
   "metadata": {},
   "outputs": [
    {
     "data": {
      "text/plain": [
       "<catboost.core.CatBoostRegressor at 0x7f5c84529ea0>"
      ]
     },
     "execution_count": 17,
     "metadata": {},
     "output_type": "execute_result"
    }
   ],
   "source": [
    "# load catboost model\n",
    "model = CatBoostRegressor()\n",
    "model.load_model(\"models/n_catboost_prostt5_5000iter.cbm\")"
   ]
  },
  {
   "cell_type": "code",
   "execution_count": 18,
   "metadata": {},
   "outputs": [],
   "source": [
    "test_ids = []\n",
    "with open(\"pdb_matched/final_test_ids.txt\", \"r\") as f:\n",
    "    for line in f:\n",
    "        test_ids.append(line.strip())"
   ]
  },
  {
   "cell_type": "code",
   "execution_count": 19,
   "metadata": {},
   "outputs": [
    {
     "data": {
      "application/vnd.jupyter.widget-view+json": {
       "model_id": "dbd30a141851400c9f990139de1d6af6",
       "version_major": 2,
       "version_minor": 0
      },
      "text/plain": [
       "  0%|          | 0/12892 [00:00<?, ?it/s]"
      ]
     },
     "metadata": {},
     "output_type": "display_data"
    }
   ],
   "source": [
    "chemical_shifts_df = pd.read_csv(csv_file)\n",
    "# take test ids\n",
    "chemical_shifts_df = chemical_shifts_df[chemical_shifts_df['ID'].isin(test_ids)]\n",
    "\n",
    "#test on them\n",
    "test_X = []\n",
    "for row in tqdm(chemical_shifts_df.itertuples(), total=len(chemical_shifts_df)):\n",
    "    protein_id = row.ID\n",
    "    amino_acid_index = row.seq_index - 1  # Adjust for zero-based indexing\n",
    "    amino_acid_prostt5_emb = prostt5_embs[protein_id][amino_acid_index]\n",
    "    \n",
    "    prot_emb = prott5_embs[protein_id]\n",
    "    \n",
    "    test_X.append(np.concatenate([amino_acid_prostt5_emb.flatten(), np.array(prot_emb).flatten()], axis=0))\n",
    "\n",
    "test_y = list(chemical_shifts_df['N'].values)\n",
    "\n",
    "preds = model.predict(test_X)"
   ]
  },
  {
   "cell_type": "code",
   "execution_count": null,
   "metadata": {},
   "outputs": [],
   "source": [
    "# select N_our, H_our, ID, entryID, seq_index, seq and save to csv\n",
    "df = pd.DataFrame({'N_cat': preds, 'ID': chemical_shifts_df['ID'], 'entryID': chemical_shifts_df['entryID'], 'seq_index': chemical_shifts_df['seq_index'], 'seq': chemical_shifts_df['seq']})\n",
    "df.to_csv(\"test_n_catboost_prostt5_5000.csv\", index=False)"
   ]
  },
  {
   "cell_type": "code",
   "execution_count": null,
   "metadata": {},
   "outputs": [],
   "source": []
  }
 ],
 "metadata": {
  "kernelspec": {
   "display_name": "prots",
   "language": "python",
   "name": "python3"
  },
  "language_info": {
   "codemirror_mode": {
    "name": "ipython",
    "version": 3
   },
   "file_extension": ".py",
   "mimetype": "text/x-python",
   "name": "python",
   "nbconvert_exporter": "python",
   "pygments_lexer": "ipython3",
   "version": "3.10.13"
  }
 },
 "nbformat": 4,
 "nbformat_minor": 2
}
