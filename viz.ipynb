{
 "cells": [
  {
   "cell_type": "code",
   "execution_count": 7,
   "metadata": {},
   "outputs": [
    {
     "name": "stdout",
     "output_type": "stream",
     "text": [
      "The autoreload extension is already loaded. To reload it, use:\n",
      "  %reload_ext autoreload\n"
     ]
    }
   ],
   "source": [
    "%load_ext autoreload\n",
    "%autoreload 2\n",
    "\n",
    "import pandas as pd\n",
    "from sklearn.model_selection import train_test_split\n",
    "from sklearn.preprocessing import StandardScaler\n",
    "import joblib\n",
    "from src.dataset import ProteinDataset\n",
    "from src.utils import train_model, test_model\n",
    "import torch\n",
    "from src.model import ChemicalShiftsPredictor, ChemicalShiftsPredictorAttention\n",
    "import numpy as np"
   ]
  },
  {
   "cell_type": "code",
   "execution_count": 4,
   "metadata": {},
   "outputs": [],
   "source": [
    "all_ucb_predictions = pd.read_csv(\"all_ucb_predictions.csv\")\n",
    "\n",
    "csv_file = 'data/strict.csv'\n",
    "chemical_shifts_df = pd.read_csv(csv_file)\n",
    "joined = pd.merge(chemical_shifts_df, all_ucb_predictions, on=['ID', 'seq_index'], how='inner', suffixes=('', '_ucb'))\n"
   ]
  },
  {
   "cell_type": "code",
   "execution_count": 11,
   "metadata": {},
   "outputs": [],
   "source": [
    "target_col = \"N\""
   ]
  },
  {
   "cell_type": "code",
   "execution_count": 16,
   "metadata": {},
   "outputs": [],
   "source": [
    "baselines_train = chemical_shifts_df[~chemical_shifts_df['ID'].isin(joined['ID'])]\n",
    "\n",
    "# mean baseline\n",
    "mean_baseline = baselines_train[target_col].mean()\n",
    "joined[f'mean_baseline_{target_col}'] = mean_baseline\n",
    "\n",
    "# mean per sequence baseline\n",
    "baseline2 = baselines_train.groupby('seq')[target_col].mean()\n",
    "joined[f\"mean_per_res_baseline_{target_col}\"] = joined['seq'].map(baseline2)"
   ]
  },
  {
   "cell_type": "code",
   "execution_count": 18,
   "metadata": {},
   "outputs": [],
   "source": [
    "n_filtered = joined.dropna(subset=['N', 'N_ucb'], axis=0)"
   ]
  },
  {
   "cell_type": "code",
   "execution_count": null,
   "metadata": {},
   "outputs": [],
   "source": [
    "# bootstrap first baseline to estimate 0.95 confidence interval for RMSE\n",
    "errors = (n_filtered ['target_col'] - n_filtered [f'mean_baseline_N']) ** 2\n",
    "\n",
    "bootstrap_rmse = []\n",
    "for i in range(1000):\n",
    "    sample = errors.sample(frac=0.5, replace=True)\n",
    "    bootstrap_rmse.append(np.sqrt(sample.mean()))\n",
    "    \n",
    "bootstrap_rmse = np.array(bootstrap_rmse)\n",
    "mean_baseline_rmse = np.sqrt(errors.mean())\n",
    "mean_baseline_rmse_ci = np.quantile(bootstrap_rmse, [0.025, 0.975])\n",
    "\n",
    "# bootstrap second baseline to estimate 0.95 confidence interval for RMSE\n",
    "errors = (n_filtered ['target_col'] - n_filtered [f'mean_per_res_baseline_N']) ** 2\n",
    "bootstrap_rmse = []\n",
    "for i in range(1000):\n",
    "    sample = errors.sample(frac=0.5, replace=True)\n",
    "    bootstrap_rmse.append(np.sqrt(sample.mean()))\n",
    "\n",
    "bootstrap_rmse = np.array(bootstrap_rmse)\n",
    "mean_per_res_baseline_rmse = np.sqrt(errors.mean())\n",
    "mean_per_res_baseline_rmse_ci = np.quantile(bootstrap_rmse, [0.025, 0.975])\n",
    "\n",
    "\n",
    "# bootstrap UCB to estimate 0.95 confidence interval for RMSE\n",
    "errors = (joined['target_col'] - joined[f'N_ucb']) ** 2\n",
    "\n",
    "bootstrap_rmse = []\n",
    "for i in range(1000):\n",
    "    sample = errors.sample(frac=0.5, replace=True)\n",
    "    bootstrap_rmse.append(np.sqrt(sample.mean()))\n",
    "\n",
    "bootstrap_rmse = np.array(bootstrap_rmse)\n",
    "ucb_rmse = np.sqrt(errors.mean())\n",
    "ucb_rmse_ci = np.quantile(bootstrap_rmse, [0.025, 0.975])"
   ]
  }
 ],
 "metadata": {
  "kernelspec": {
   "display_name": "prots",
   "language": "python",
   "name": "python3"
  },
  "language_info": {
   "codemirror_mode": {
    "name": "ipython",
    "version": 3
   },
   "file_extension": ".py",
   "mimetype": "text/x-python",
   "name": "python",
   "nbconvert_exporter": "python",
   "pygments_lexer": "ipython3",
   "version": "3.10.13"
  }
 },
 "nbformat": 4,
 "nbformat_minor": 2
}
