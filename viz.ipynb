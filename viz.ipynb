{
 "cells": [
  {
   "cell_type": "code",
   "execution_count": 1,
   "metadata": {},
   "outputs": [
    {
     "name": "stderr",
     "output_type": "stream",
     "text": [
      "/tmp/ipykernel_1511/1992590518.py:4: DeprecationWarning: \n",
      "Pyarrow will become a required dependency of pandas in the next major release of pandas (pandas 3.0),\n",
      "(to allow more performant data types, such as the Arrow string type, and better interoperability with other libraries)\n",
      "but was not found to be installed on your system.\n",
      "If this would cause problems for you,\n",
      "please provide us feedback at https://github.com/pandas-dev/pandas/issues/54466\n",
      "        \n",
      "  import pandas as pd\n"
     ]
    }
   ],
   "source": [
    "%load_ext autoreload\n",
    "%autoreload 2\n",
    "\n",
    "import pandas as pd\n",
    "from sklearn.model_selection import train_test_split\n",
    "from sklearn.preprocessing import StandardScaler\n",
    "import joblib\n",
    "from src.dataset import ProteinDataset\n",
    "from src.utils import train_model, test_model\n",
    "import torch\n",
    "from src.model import ChemicalShiftsPredictor, ChemicalShiftsPredictorAttention\n",
    "import numpy as np"
   ]
  },
  {
   "cell_type": "code",
   "execution_count": 2,
   "metadata": {},
   "outputs": [],
   "source": [
    "all_ucb_predictions = pd.read_csv(\"all_ucb_predictions.csv\")\n",
    "\n",
    "csv_file = 'data/strict.csv'\n",
    "chemical_shifts_df = pd.read_csv(csv_file)\n",
    "joined = pd.merge(chemical_shifts_df, all_ucb_predictions, on=['ID', 'seq_index'], how='inner', suffixes=('', '_ucb'))\n"
   ]
  },
  {
   "cell_type": "code",
   "execution_count": 3,
   "metadata": {},
   "outputs": [],
   "source": [
    "# taking our predictions from data/our_predictions.csv\n",
    "# and joining them with the chemical shifts data\n",
    "# to get the chemical shifts for our predictions\n",
    "our_predictions_nn = pd.read_csv(\"data/our_predictions.csv\")\n",
    "joined = pd.merge(joined, our_predictions_nn, on=['ID', 'seq_index'], how='inner', suffixes=('', '_our_nn'))\n"
   ]
  },
  {
   "cell_type": "code",
   "execution_count": 4,
   "metadata": {},
   "outputs": [],
   "source": [
    "our_prediction_cat_n = pd.read_csv(\"test_n_catboost_prostt5_5000.csv\")\n",
    "joined = pd.merge(joined, our_prediction_cat_n, on=['ID', 'seq_index'], how='inner', suffixes=('', '_our_cat_n'))"
   ]
  },
  {
   "cell_type": "code",
   "execution_count": 5,
   "metadata": {},
   "outputs": [],
   "source": [
    "our_prediction_can_h = pd.read_csv(\"test_h_catboost_prostt5.csv\")\n",
    "joined = pd.merge(joined, our_prediction_can_h, on=['ID', 'seq_index'], how='inner', suffixes=('', '_our_cat_h'))"
   ]
  },
  {
   "cell_type": "code",
   "execution_count": 6,
   "metadata": {},
   "outputs": [],
   "source": [
    "baselines_train = chemical_shifts_df[~chemical_shifts_df['ID'].isin(joined['ID'])]\n",
    "\n",
    "# mean baseline\n",
    "mean_baseline = baselines_train['N'].mean()\n",
    "joined[f'mean_baseline_N'] = mean_baseline\n",
    "\n",
    "# mean per sequence baseline\n",
    "baseline2 = baselines_train.groupby('seq')['N'].mean()\n",
    "joined[f\"mean_per_res_baseline_N\"] = joined['seq'].map(baseline2)"
   ]
  },
  {
   "cell_type": "code",
   "execution_count": 7,
   "metadata": {},
   "outputs": [],
   "source": [
    "baselines_train = chemical_shifts_df[~chemical_shifts_df['ID'].isin(joined['ID'])]\n",
    "\n",
    "# mean baseline\n",
    "mean_baseline = baselines_train[\"H\"].mean()\n",
    "joined[f'mean_baseline_H'] = mean_baseline\n",
    "\n",
    "# mean per sequence baseline\n",
    "baseline2 = baselines_train.groupby('seq')[\"H\"].mean()\n",
    "joined[f\"mean_per_res_baseline_H\"] = joined['seq'].map(baseline2)"
   ]
  },
  {
   "cell_type": "code",
   "execution_count": 8,
   "metadata": {},
   "outputs": [],
   "source": [
    "n_filtered = joined.dropna(subset=['N', 'N_ucb'], axis=0)"
   ]
  },
  {
   "cell_type": "code",
   "execution_count": 9,
   "metadata": {},
   "outputs": [],
   "source": [
    "# bootstrap first baseline to estimate 0.95 confidence interval for RMSE\n",
    "errors = (n_filtered ['N'] - n_filtered [f'mean_baseline_N']) ** 2\n",
    "\n",
    "bootstrap_rmse = []\n",
    "for i in range(1000):\n",
    "    sample = errors.sample(frac=0.5, replace=True)\n",
    "    bootstrap_rmse.append(np.sqrt(sample.mean()))\n",
    "    \n",
    "bootstrap_rmse = np.array(bootstrap_rmse)\n",
    "mean_baseline_rmse = np.sqrt(errors.mean())\n",
    "mean_baseline_rmse_ci = np.quantile(bootstrap_rmse, [0.025, 0.975]) - mean_baseline_rmse\n",
    "\n",
    "# bootstrap second baseline to estimate 0.95 confidence interval for RMSE\n",
    "errors = (n_filtered ['N'] - n_filtered [f'mean_per_res_baseline_N']) ** 2\n",
    "bootstrap_rmse = []\n",
    "for i in range(1000):\n",
    "    sample = errors.sample(frac=0.5, replace=True)\n",
    "    bootstrap_rmse.append(np.sqrt(sample.mean()))\n",
    "\n",
    "bootstrap_rmse = np.array(bootstrap_rmse)\n",
    "mean_per_res_baseline_rmse = np.sqrt(errors.mean())\n",
    "mean_per_res_baseline_rmse_ci = np.quantile(bootstrap_rmse, [0.025, 0.975]) - mean_per_res_baseline_rmse\n",
    "\n",
    "\n",
    "# bootstrap UCB to estimate 0.95 confidence interval for RMSE\n",
    "errors = (joined['N'] - joined[f'N_ucb']) ** 2\n",
    "\n",
    "bootstrap_rmse = []\n",
    "for i in range(1000):\n",
    "    sample = errors.sample(frac=0.5, replace=True)\n",
    "    bootstrap_rmse.append(np.sqrt(sample.mean()))\n",
    "\n",
    "bootstrap_rmse = np.array(bootstrap_rmse)\n",
    "ucb_rmse = np.sqrt(errors.mean())\n",
    "ucb_rmse_ci = np.quantile(bootstrap_rmse, [0.025, 0.975]) - ucb_rmse\n",
    "\n",
    "# bootstrap our model to estimate 0.95 confidence interval for RMSE\n",
    "errors = (joined['N'] - joined[f'N_our']) ** 2\n",
    "\n",
    "bootstrap_rmse = []\n",
    "for i in range(1000):\n",
    "    sample = errors.sample(frac=0.5, replace=True)\n",
    "    bootstrap_rmse.append(np.sqrt(sample.mean()))\n",
    "    \n",
    "bootstrap_rmse = np.array(bootstrap_rmse)\n",
    "our_nn_rmse = np.sqrt(errors.mean())\n",
    "our_rmse_ci = np.quantile(bootstrap_rmse, [0.025, 0.975]) - our_nn_rmse\n",
    "\n",
    "\n",
    "# bootstrap our cat n to estimate 0.95 confidence interval for RMSE\n",
    "errors = (joined['N'] - joined[f'N_cat']) ** 2\n",
    "\n",
    "bootstrap_rmse = []\n",
    "for i in range(1000):\n",
    "    sample = errors.sample(frac=0.5, replace=True)\n",
    "    bootstrap_rmse.append(np.sqrt(sample.mean()))\n",
    "\n",
    "bootstrap_rmse = np.array(bootstrap_rmse)\n",
    "our_cat_n_rmse = np.sqrt(errors.mean())\n",
    "our_cat_n_rmse_ci = np.quantile(bootstrap_rmse, [0.025, 0.975]) - our_cat_n_rmse"
   ]
  },
  {
   "cell_type": "code",
   "execution_count": 10,
   "metadata": {},
   "outputs": [
    {
     "data": {
      "text/plain": [
       "3.1080577660792037"
      ]
     },
     "execution_count": 10,
     "metadata": {},
     "output_type": "execute_result"
    }
   ],
   "source": [
    "our_cat_n_rmse"
   ]
  },
  {
   "cell_type": "code",
   "execution_count": 12,
   "metadata": {},
   "outputs": [
    {
     "data": {
      "image/png": "[encoded data removed]",
      "text/plain": [
       "<Figure size 1000x500 with 1 Axes>"
      ]
     },
     "metadata": {},
     "output_type": "display_data"
    }
   ],
   "source": [
    "# make bar plot showing RMSE and 95% CI for each method\n",
    "import matplotlib.pyplot as plt\n",
    "import seaborn as sns\n",
    "sns.set_theme(style=\"whitegrid\")\n",
    "\n",
    "fig, ax = plt.subplots(figsize=(10, 5))\n",
    "y_errors = np.abs(np.stack([mean_baseline_rmse_ci, mean_per_res_baseline_rmse_ci, ucb_rmse_ci, our_rmse_ci, our_cat_n_rmse_ci], axis=0).T)\n",
    "# make ax wider\n",
    "ax.bar(x=['Mean', 'Mean per residue', 'UCBShift', \"Our NN\", \"Our CatBoost\"], height=[mean_baseline_rmse, mean_per_res_baseline_rmse, ucb_rmse, our_nn_rmse, our_cat_n_rmse], yerr=y_errors, capsize=5)\n",
    "ax.set_title(\"RMSE for chemical shift of N, strict test set\");"
   ]
  },
  {
   "cell_type": "code",
   "execution_count": 13,
   "metadata": {},
   "outputs": [],
   "source": [
    "h_filtered = joined.dropna(subset=['H', 'H_ucb'], axis=0)\n",
    "\n",
    "# bootstrap first baseline to estimate 0.95 confidence interval for RMSE\n",
    "errors = (h_filtered ['H'] - h_filtered [f'mean_baseline_H']) ** 2\n",
    "\n",
    "bootstrap_rmse = []\n",
    "for i in range(1000):\n",
    "    sample = errors.sample(frac=0.5, replace=True)\n",
    "    bootstrap_rmse.append(np.sqrt(sample.mean()))\n",
    "    \n",
    "bootstrap_rmse = np.array(bootstrap_rmse)\n",
    "mean_baseline_rmse = np.sqrt(errors.mean())\n",
    "mean_baseline_rmse_ci = np.quantile(bootstrap_rmse, [0.025, 0.975]) - mean_baseline_rmse\n",
    "\n",
    "# bootstrap second baseline to estimate 0.95 confidence interval for RMSE\n",
    "errors = (h_filtered ['H'] - h_filtered [f'mean_per_res_baseline_H']) ** 2\n",
    "bootstrap_rmse = []\n",
    "for i in range(1000):\n",
    "    sample = errors.sample(frac=0.5, replace=True)\n",
    "    bootstrap_rmse.append(np.sqrt(sample.mean()))\n",
    "\n",
    "bootstrap_rmse = np.array(bootstrap_rmse)\n",
    "mean_per_res_baseline_rmse = np.sqrt(errors.mean())\n",
    "mean_per_res_baseline_rmse_ci = np.quantile(bootstrap_rmse, [0.025, 0.975]) - mean_per_res_baseline_rmse\n",
    "\n",
    "\n",
    "# bootstrap UCB to estimate 0.95 confidence interval for RMSE\n",
    "errors = (h_filtered['H'] - h_filtered[f'H_ucb']) ** 2\n",
    "\n",
    "bootstrap_rmse = []\n",
    "for i in range(1000):\n",
    "    sample = errors.sample(frac=0.5, replace=True)\n",
    "    bootstrap_rmse.append(np.sqrt(sample.mean()))\n",
    "\n",
    "bootstrap_rmse = np.array(bootstrap_rmse)\n",
    "ucb_rmse = np.sqrt(errors.mean())\n",
    "ucb_rmse_ci = np.quantile(bootstrap_rmse, [0.025, 0.975]) - ucb_rmse\n",
    "\n",
    "# bootstrap our model to estimate 0.95 confidence interval for RMSE\n",
    "errors = (h_filtered['H'] - h_filtered[f'H_our']) ** 2\n",
    "\n",
    "bootstrap_rmse = []\n",
    "for i in range(1000):\n",
    "    sample = errors.sample(frac=0.5, replace=True)\n",
    "    bootstrap_rmse.append(np.sqrt(sample.mean()))\n",
    "    \n",
    "bootstrap_rmse = np.array(bootstrap_rmse)\n",
    "our_nn_rmse = np.sqrt(errors.mean())\n",
    "our_rmse_ci = np.quantile(bootstrap_rmse, [0.025, 0.975]) - our_nn_rmse\n",
    "\n",
    "\n",
    "# bootstrap our cat h to estimate 0.95 confidence interval for RMSE\n",
    "errors = (h_filtered['H'] - h_filtered[f'H_cat']) ** 2\n",
    "\n",
    "bootstrap_rmse = []\n",
    "for i in range(1000):\n",
    "    sample = errors.sample(frac=0.5, replace=True)\n",
    "    bootstrap_rmse.append(np.sqrt(sample.mean()))\n",
    "    \n",
    "bootstrap_rmse = np.array(bootstrap_rmse)\n",
    "our_cat_h_rmse = np.sqrt(errors.mean())\n",
    "our_cat_h_rmse_ci = np.quantile(bootstrap_rmse, [0.025, 0.975]) - our_cat_h_rmse"
   ]
  },
  {
   "cell_type": "code",
   "execution_count": 14,
   "metadata": {},
   "outputs": [
    {
     "data": {
      "image/png": "[encoded data removed]",
      "text/plain": [
       "<Figure size 1000x500 with 1 Axes>"
      ]
     },
     "metadata": {},
     "output_type": "display_data"
    }
   ],
   "source": [
    "# make bar plot showing RMSE and 95% CI for each method\n",
    "import matplotlib.pyplot as plt\n",
    "import seaborn as sns\n",
    "sns.set_theme(style=\"whitegrid\")\n",
    "\n",
    "fig, ax = plt.subplots(figsize=(10, 5))\n",
    "y_errors = np.abs(np.stack([mean_baseline_rmse_ci, mean_per_res_baseline_rmse_ci, ucb_rmse_ci, our_rmse_ci, our_cat_n_rmse_ci], axis=0).T)\n",
    "ax.bar(x=['Mean', 'Mean per residue', 'UCBShift', \"Our NN\", \"Our CatBoost\"], height=[mean_baseline_rmse, mean_per_res_baseline_rmse, ucb_rmse, mean_baseline_rmse, our_cat_n_rmse], yerr=y_errors, capsize=10)\n",
    "ax.set_title(\"RMSE for chemical shift of H, strict test set\");"
   ]
  },
  {
   "cell_type": "code",
   "execution_count": null,
   "metadata": {},
   "outputs": [],
   "source": []
  }
 ],
 "metadata": {
  "kernelspec": {
   "display_name": "prots",
   "language": "python",
   "name": "python3"
  },
  "language_info": {
   "codemirror_mode": {
    "name": "ipython",
    "version": 3
   },
   "file_extension": ".py",
   "mimetype": "text/x-python",
   "name": "python",
   "nbconvert_exporter": "python",
   "pygments_lexer": "ipython3",
   "version": "3.10.13"
  }
 },
 "nbformat": 4,
 "nbformat_minor": 2
}
