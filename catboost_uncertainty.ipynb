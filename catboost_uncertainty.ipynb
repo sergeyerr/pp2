{
 "cells": [
  {
   "cell_type": "code",
   "execution_count": 1,
   "metadata": {},
   "outputs": [
    {
     "name": "stderr",
     "output_type": "stream",
     "text": [
      "/tmp/ipykernel_1167/1785675692.py:1: DeprecationWarning: \n",
      "Pyarrow will become a required dependency of pandas in the next major release of pandas (pandas 3.0),\n",
      "(to allow more performant data types, such as the Arrow string type, and better interoperability with other libraries)\n",
      "but was not found to be installed on your system.\n",
      "If this would cause problems for you,\n",
      "please provide us feedback at https://github.com/pandas-dev/pandas/issues/54466\n",
      "        \n",
      "  import pandas as pd\n"
     ]
    }
   ],
   "source": [
    "import pandas as pd\n",
    "from sklearn.model_selection import train_test_split\n",
    "from sklearn.preprocessing import StandardScaler\n",
    "import joblib\n",
    "from src.dataset import ProteinDataset\n",
    "from src.utils import train_model, test_model\n",
    "import torch\n",
    "from src.model import ChemicalShiftsPredictor, ChemicalShiftsPredictorAttention\n",
    "from src.utils import packed_padded_collate\n",
    "\n",
    "from tqdm.notebook import tqdm\n",
    "from catboost import CatBoostRegressor\n",
    "\n",
    "from torch.utils.data import DataLoader\n",
    "from torch.nn.utils.rnn import pad_sequence\n",
    "import numpy as np\n",
    "import h5py"
   ]
  },
  {
   "cell_type": "code",
   "execution_count": 2,
   "metadata": {},
   "outputs": [],
   "source": [
    "# Load and prepare data\n",
    "csv_file = 'data/strict.csv'\n",
    "prott5_file = 'data/embeddings/unfiltered_all_prott5.h5'\n",
    "prott5_res_file = 'data/embeddings/unfiltered_all_prott5_res.h5'\n",
    "prostt5_file = 'data/embeddings/prostt5.h5'\n",
    "esm_file = 'data/embeddings/unfiltered_all_esm2_3b.h5'\n",
    "esm_res_file = 'data/embeddings/unfiltered_all_esm2_3b_res.h5'\n",
    "chemical_shifts_df = pd.read_csv(csv_file)\n",
    "#chemical_shifts_df.describe()"
   ]
  },
  {
   "cell_type": "code",
   "execution_count": 3,
   "metadata": {},
   "outputs": [],
   "source": [
    "test_ids = []\n",
    "with open(\"pdb_matched/final_test_ids.txt\", \"r\") as f:\n",
    "    for line in f:\n",
    "        test_ids.append(line.strip())"
   ]
  },
  {
   "cell_type": "code",
   "execution_count": 4,
   "metadata": {},
   "outputs": [],
   "source": [
    "chemical_shifts_df = chemical_shifts_df[~chemical_shifts_df['ID'].isin(test_ids)]"
   ]
  },
  {
   "cell_type": "code",
   "execution_count": 5,
   "metadata": {},
   "outputs": [],
   "source": [
    "chemical_shifts_df.dropna(inplace=True, subset=[\"N\"])"
   ]
  },
  {
   "cell_type": "code",
   "execution_count": 6,
   "metadata": {},
   "outputs": [],
   "source": [
    "# split dataset into train and test, based on unique protein IDs\n",
    "ids = chemical_shifts_df['ID'].unique()\n",
    "train_ids, test_ids = train_test_split(ids, test_size=0.2, random_state=42)\n",
    "train_df = chemical_shifts_df[chemical_shifts_df['ID'].isin(train_ids)]\n",
    "val_df = chemical_shifts_df[chemical_shifts_df['ID'].isin(test_ids)]"
   ]
  },
  {
   "cell_type": "code",
   "execution_count": 7,
   "metadata": {},
   "outputs": [],
   "source": [
    "prostt5_embs = h5py.File(prostt5_file, \"r\")\n",
    "prott5_embs = h5py.File(prott5_file, \"r\")"
   ]
  },
  {
   "cell_type": "code",
   "execution_count": 8,
   "metadata": {},
   "outputs": [
    {
     "data": {
      "application/vnd.jupyter.widget-view+json": {
       "model_id": "96d25e4d49d645be80b074d167e23f53",
       "version_major": 2,
       "version_minor": 0
      },
      "text/plain": [
       "  0%|          | 0/144973 [00:00<?, ?it/s]"
      ]
     },
     "metadata": {},
     "output_type": "display_data"
    }
   ],
   "source": [
    "# get prosst5 embeddings for train and test\n",
    "train_X = []\n",
    "for row in tqdm(train_df.itertuples(), total=len(train_df)):\n",
    "    protein_id = row.ID\n",
    "    amino_acid_index = row.seq_index - 1  # Adjust for zero-based indexing\n",
    "    amino_acid_prostt5_emb = prostt5_embs[protein_id][amino_acid_index]\n",
    "    \n",
    "    prot_emb = prott5_embs[protein_id]\n",
    "    \n",
    "    train_X.append(np.concatenate([amino_acid_prostt5_emb.flatten()], axis=0))"
   ]
  },
  {
   "cell_type": "code",
   "execution_count": 9,
   "metadata": {},
   "outputs": [
    {
     "data": {
      "application/vnd.jupyter.widget-view+json": {
       "model_id": "97067e40d86147d29d0aaa583fabaafd",
       "version_major": 2,
       "version_minor": 0
      },
      "text/plain": [
       "  0%|          | 0/35552 [00:00<?, ?it/s]"
      ]
     },
     "metadata": {},
     "output_type": "display_data"
    }
   ],
   "source": [
    "val_X = []\n",
    "for row in tqdm(val_df.itertuples(), total=len(val_df)):\n",
    "    protein_id = row.ID\n",
    "    amino_acid_index = row.seq_index - 1  # Adjust for zero-based indexing\n",
    "    amino_acid_prostt5_emb = prostt5_embs[protein_id][amino_acid_index]\n",
    "    \n",
    "    prot_emb = prott5_embs[protein_id]\n",
    "    \n",
    "    val_X.append(np.concatenate([amino_acid_prostt5_emb.flatten()], axis=0))\n"
   ]
  },
  {
   "cell_type": "code",
   "execution_count": 10,
   "metadata": {},
   "outputs": [],
   "source": [
    "train_y = list(train_df['N'].values)\n",
    "val_y = list(val_df['N'].values)"
   ]
  },
  {
   "cell_type": "code",
   "execution_count": 11,
   "metadata": {},
   "outputs": [
    {
     "data": {
      "text/plain": [
       "144973"
      ]
     },
     "execution_count": 11,
     "metadata": {},
     "output_type": "execute_result"
    }
   ],
   "source": [
    "len(train_y)"
   ]
  },
  {
   "cell_type": "code",
   "execution_count": 43,
   "metadata": {},
   "outputs": [],
   "source": [
    "from catboost import CatBoostClassifier, Pool\n",
    "\n",
    "train_data = Pool(train_X, train_y)\n",
    "#change feature numeration from 0 to 1\n",
    "val_data = train_data.set_feature_names(list(range(1, 1025)))\n",
    "\n",
    "val_data = Pool(val_X, val_y)\n",
    "#change feature numeration from 0 to 1\n",
    "val_data = val_data.set_feature_names(list(range(1, 1025)))"
   ]
  },
  {
   "cell_type": "code",
   "execution_count": 46,
   "metadata": {},
   "outputs": [
    {
     "name": "stdout",
     "output_type": "stream",
     "text": [
      "0:\tlearn: 3.0847239\ttest: 3.0759453\tbest: 3.0759453 (0)\ttotal: 384ms\tremaining: 38s\n",
      "1:\tlearn: 3.0749458\ttest: 3.0659519\tbest: 3.0659519 (1)\ttotal: 593ms\tremaining: 29s\n",
      "2:\tlearn: 3.0648967\ttest: 3.0559116\tbest: 3.0559116 (2)\ttotal: 818ms\tremaining: 26.4s\n",
      "3:\tlearn: 3.0563293\ttest: 3.0471409\tbest: 3.0471409 (3)\ttotal: 1.03s\tremaining: 24.7s\n",
      "4:\tlearn: 3.0482565\ttest: 3.0390410\tbest: 3.0390410 (4)\ttotal: 1.23s\tremaining: 23.3s\n",
      "5:\tlearn: 3.0399502\ttest: 3.0307382\tbest: 3.0307382 (5)\ttotal: 1.43s\tremaining: 22.4s\n",
      "6:\tlearn: 3.0326375\ttest: 3.0234300\tbest: 3.0234300 (6)\ttotal: 1.7s\tremaining: 22.6s\n",
      "7:\tlearn: 3.0256969\ttest: 3.0164259\tbest: 3.0164259 (7)\ttotal: 1.96s\tremaining: 22.6s\n",
      "8:\tlearn: 3.0186123\ttest: 3.0092939\tbest: 3.0092939 (8)\ttotal: 2.18s\tremaining: 22s\n",
      "9:\tlearn: 3.0130024\ttest: 3.0036218\tbest: 3.0036218 (9)\ttotal: 2.38s\tremaining: 21.4s\n",
      "10:\tlearn: 3.0072971\ttest: 2.9978614\tbest: 2.9978614 (10)\ttotal: 2.57s\tremaining: 20.8s\n",
      "11:\tlearn: 3.0017787\ttest: 2.9923000\tbest: 2.9923000 (11)\ttotal: 2.77s\tremaining: 20.3s\n",
      "12:\tlearn: 2.9963853\ttest: 2.9868533\tbest: 2.9868533 (12)\ttotal: 2.96s\tremaining: 19.8s\n",
      "13:\tlearn: 2.9907879\ttest: 2.9812352\tbest: 2.9812352 (13)\ttotal: 3.15s\tremaining: 19.4s\n",
      "14:\tlearn: 2.9858985\ttest: 2.9764130\tbest: 2.9764130 (14)\ttotal: 3.37s\tremaining: 19.1s\n",
      "15:\tlearn: 2.9814504\ttest: 2.9718767\tbest: 2.9718767 (15)\ttotal: 3.56s\tremaining: 18.7s\n",
      "16:\tlearn: 2.9770671\ttest: 2.9674553\tbest: 2.9674553 (16)\ttotal: 3.75s\tremaining: 18.3s\n",
      "17:\tlearn: 2.9728678\ttest: 2.9632181\tbest: 2.9632181 (17)\ttotal: 3.97s\tremaining: 18.1s\n",
      "18:\tlearn: 2.9690394\ttest: 2.9593401\tbest: 2.9593401 (18)\ttotal: 4.17s\tremaining: 17.8s\n",
      "19:\tlearn: 2.9653706\ttest: 2.9558144\tbest: 2.9558144 (19)\ttotal: 4.38s\tremaining: 17.5s\n",
      "20:\tlearn: 2.9611451\ttest: 2.9517372\tbest: 2.9517372 (20)\ttotal: 4.62s\tremaining: 17.4s\n",
      "21:\tlearn: 2.9576130\ttest: 2.9482157\tbest: 2.9482157 (21)\ttotal: 4.83s\tremaining: 17.1s\n",
      "22:\tlearn: 2.9540959\ttest: 2.9447090\tbest: 2.9447090 (22)\ttotal: 5.05s\tremaining: 16.9s\n",
      "23:\tlearn: 2.9508282\ttest: 2.9414976\tbest: 2.9414976 (23)\ttotal: 5.28s\tremaining: 16.7s\n",
      "24:\tlearn: 2.9480254\ttest: 2.9386999\tbest: 2.9386999 (24)\ttotal: 5.5s\tremaining: 16.5s\n",
      "25:\tlearn: 2.9448487\ttest: 2.9355659\tbest: 2.9355659 (25)\ttotal: 5.76s\tremaining: 16.4s\n",
      "26:\tlearn: 2.9422236\ttest: 2.9329015\tbest: 2.9329015 (26)\ttotal: 6s\tremaining: 16.2s\n",
      "27:\tlearn: 2.9392104\ttest: 2.9298358\tbest: 2.9298358 (27)\ttotal: 6.23s\tremaining: 16s\n",
      "28:\tlearn: 2.9362362\ttest: 2.9268990\tbest: 2.9268990 (28)\ttotal: 6.46s\tremaining: 15.8s\n",
      "29:\tlearn: 2.9333408\ttest: 2.9240933\tbest: 2.9240933 (29)\ttotal: 6.68s\tremaining: 15.6s\n",
      "30:\tlearn: 2.9307827\ttest: 2.9215395\tbest: 2.9215395 (30)\ttotal: 6.89s\tremaining: 15.3s\n",
      "31:\tlearn: 2.9282173\ttest: 2.9189497\tbest: 2.9189497 (31)\ttotal: 7.1s\tremaining: 15.1s\n",
      "32:\tlearn: 2.9255043\ttest: 2.9163660\tbest: 2.9163660 (32)\ttotal: 7.29s\tremaining: 14.8s\n",
      "33:\tlearn: 2.9230702\ttest: 2.9139970\tbest: 2.9139970 (33)\ttotal: 7.51s\tremaining: 14.6s\n",
      "34:\tlearn: 2.9206548\ttest: 2.9115636\tbest: 2.9115636 (34)\ttotal: 7.72s\tremaining: 14.3s\n",
      "35:\tlearn: 2.9181291\ttest: 2.9089998\tbest: 2.9089998 (35)\ttotal: 7.92s\tremaining: 14.1s\n",
      "36:\tlearn: 2.9157997\ttest: 2.9066087\tbest: 2.9066087 (36)\ttotal: 8.13s\tremaining: 13.8s\n",
      "37:\tlearn: 2.9136653\ttest: 2.9045194\tbest: 2.9045194 (37)\ttotal: 8.39s\tremaining: 13.7s\n",
      "38:\tlearn: 2.9113062\ttest: 2.9021807\tbest: 2.9021807 (38)\ttotal: 8.64s\tremaining: 13.5s\n",
      "39:\tlearn: 2.9091661\ttest: 2.9001169\tbest: 2.9001169 (39)\ttotal: 8.93s\tremaining: 13.4s\n",
      "40:\tlearn: 2.9069635\ttest: 2.8979966\tbest: 2.8979966 (40)\ttotal: 9.16s\tremaining: 13.2s\n",
      "41:\tlearn: 2.9053264\ttest: 2.8963510\tbest: 2.8963510 (41)\ttotal: 9.41s\tremaining: 13s\n",
      "42:\tlearn: 2.9030853\ttest: 2.8941441\tbest: 2.8941441 (42)\ttotal: 9.66s\tremaining: 12.8s\n",
      "43:\tlearn: 2.9012423\ttest: 2.8923924\tbest: 2.8923924 (43)\ttotal: 9.94s\tremaining: 12.7s\n",
      "44:\tlearn: 2.8991004\ttest: 2.8902885\tbest: 2.8902885 (44)\ttotal: 10.2s\tremaining: 12.5s\n",
      "45:\tlearn: 2.8974461\ttest: 2.8887449\tbest: 2.8887449 (45)\ttotal: 10.5s\tremaining: 12.4s\n",
      "46:\tlearn: 2.8955252\ttest: 2.8868811\tbest: 2.8868811 (46)\ttotal: 10.8s\tremaining: 12.2s\n",
      "47:\tlearn: 2.8938972\ttest: 2.8853059\tbest: 2.8853059 (47)\ttotal: 11.1s\tremaining: 12s\n",
      "48:\tlearn: 2.8920840\ttest: 2.8834738\tbest: 2.8834738 (48)\ttotal: 11.3s\tremaining: 11.7s\n",
      "49:\tlearn: 2.8901388\ttest: 2.8815665\tbest: 2.8815665 (49)\ttotal: 11.5s\tremaining: 11.5s\n",
      "50:\tlearn: 2.8885252\ttest: 2.8800436\tbest: 2.8800436 (50)\ttotal: 11.8s\tremaining: 11.3s\n",
      "51:\tlearn: 2.8870148\ttest: 2.8786224\tbest: 2.8786224 (51)\ttotal: 12s\tremaining: 11.1s\n",
      "52:\tlearn: 2.8852366\ttest: 2.8769322\tbest: 2.8769322 (52)\ttotal: 12.2s\tremaining: 10.9s\n",
      "53:\tlearn: 2.8837161\ttest: 2.8754424\tbest: 2.8754424 (53)\ttotal: 12.5s\tremaining: 10.6s\n",
      "54:\tlearn: 2.8816806\ttest: 2.8736033\tbest: 2.8736033 (54)\ttotal: 12.7s\tremaining: 10.4s\n",
      "55:\tlearn: 2.8800085\ttest: 2.8719205\tbest: 2.8719205 (55)\ttotal: 12.9s\tremaining: 10.2s\n",
      "56:\tlearn: 2.8784001\ttest: 2.8703497\tbest: 2.8703497 (56)\ttotal: 13.2s\tremaining: 9.96s\n",
      "57:\tlearn: 2.8771103\ttest: 2.8691740\tbest: 2.8691740 (57)\ttotal: 13.4s\tremaining: 9.73s\n",
      "58:\tlearn: 2.8756292\ttest: 2.8678059\tbest: 2.8678059 (58)\ttotal: 13.7s\tremaining: 9.5s\n",
      "59:\tlearn: 2.8739353\ttest: 2.8662954\tbest: 2.8662954 (59)\ttotal: 13.9s\tremaining: 9.26s\n",
      "60:\tlearn: 2.8723412\ttest: 2.8647425\tbest: 2.8647425 (60)\ttotal: 14.1s\tremaining: 9.04s\n",
      "61:\tlearn: 2.8709483\ttest: 2.8633452\tbest: 2.8633452 (61)\ttotal: 14.4s\tremaining: 8.8s\n",
      "62:\tlearn: 2.8695335\ttest: 2.8620874\tbest: 2.8620874 (62)\ttotal: 14.6s\tremaining: 8.58s\n",
      "63:\tlearn: 2.8682784\ttest: 2.8609460\tbest: 2.8609460 (63)\ttotal: 14.9s\tremaining: 8.36s\n",
      "64:\tlearn: 2.8668505\ttest: 2.8596940\tbest: 2.8596940 (64)\ttotal: 15.1s\tremaining: 8.14s\n",
      "65:\tlearn: 2.8654434\ttest: 2.8584766\tbest: 2.8584766 (65)\ttotal: 15.4s\tremaining: 7.91s\n",
      "66:\tlearn: 2.8640619\ttest: 2.8572251\tbest: 2.8572251 (66)\ttotal: 15.6s\tremaining: 7.69s\n",
      "67:\tlearn: 2.8627657\ttest: 2.8560074\tbest: 2.8560074 (67)\ttotal: 15.8s\tremaining: 7.46s\n",
      "68:\tlearn: 2.8615069\ttest: 2.8548421\tbest: 2.8548421 (68)\ttotal: 16.1s\tremaining: 7.25s\n",
      "69:\tlearn: 2.8603797\ttest: 2.8538245\tbest: 2.8538245 (69)\ttotal: 16.4s\tremaining: 7.02s\n",
      "70:\tlearn: 2.8591041\ttest: 2.8526259\tbest: 2.8526259 (70)\ttotal: 16.6s\tremaining: 6.78s\n",
      "71:\tlearn: 2.8579262\ttest: 2.8515410\tbest: 2.8515410 (71)\ttotal: 16.8s\tremaining: 6.55s\n",
      "72:\tlearn: 2.8565504\ttest: 2.8503709\tbest: 2.8503709 (72)\ttotal: 17.1s\tremaining: 6.31s\n",
      "73:\tlearn: 2.8551300\ttest: 2.8490038\tbest: 2.8490038 (73)\ttotal: 17.3s\tremaining: 6.07s\n",
      "74:\tlearn: 2.8540021\ttest: 2.8480204\tbest: 2.8480204 (74)\ttotal: 17.5s\tremaining: 5.84s\n",
      "75:\tlearn: 2.8526790\ttest: 2.8467877\tbest: 2.8467877 (75)\ttotal: 17.7s\tremaining: 5.6s\n",
      "76:\tlearn: 2.8514524\ttest: 2.8456019\tbest: 2.8456019 (76)\ttotal: 18s\tremaining: 5.37s\n",
      "77:\tlearn: 2.8503112\ttest: 2.8445869\tbest: 2.8445869 (77)\ttotal: 18.2s\tremaining: 5.13s\n",
      "78:\tlearn: 2.8489089\ttest: 2.8432180\tbest: 2.8432180 (78)\ttotal: 18.4s\tremaining: 4.9s\n",
      "79:\tlearn: 2.8478743\ttest: 2.8422734\tbest: 2.8422734 (79)\ttotal: 18.7s\tremaining: 4.67s\n",
      "80:\tlearn: 2.8466305\ttest: 2.8411040\tbest: 2.8411040 (80)\ttotal: 18.9s\tremaining: 4.43s\n",
      "81:\tlearn: 2.8454941\ttest: 2.8401496\tbest: 2.8401496 (81)\ttotal: 19.1s\tremaining: 4.19s\n",
      "82:\tlearn: 2.8443153\ttest: 2.8389997\tbest: 2.8389997 (82)\ttotal: 19.3s\tremaining: 3.95s\n",
      "83:\tlearn: 2.8430459\ttest: 2.8378699\tbest: 2.8378699 (83)\ttotal: 19.5s\tremaining: 3.72s\n",
      "84:\tlearn: 2.8417871\ttest: 2.8366385\tbest: 2.8366385 (84)\ttotal: 19.7s\tremaining: 3.48s\n",
      "85:\tlearn: 2.8405519\ttest: 2.8354861\tbest: 2.8354861 (85)\ttotal: 20s\tremaining: 3.25s\n",
      "86:\tlearn: 2.8393464\ttest: 2.8344029\tbest: 2.8344029 (86)\ttotal: 20.2s\tremaining: 3.01s\n",
      "87:\tlearn: 2.8382467\ttest: 2.8333682\tbest: 2.8333682 (87)\ttotal: 20.4s\tremaining: 2.78s\n",
      "88:\tlearn: 2.8371587\ttest: 2.8323771\tbest: 2.8323771 (88)\ttotal: 20.6s\tremaining: 2.54s\n",
      "89:\tlearn: 2.8359485\ttest: 2.8313183\tbest: 2.8313183 (89)\ttotal: 20.8s\tremaining: 2.31s\n",
      "90:\tlearn: 2.8350232\ttest: 2.8305836\tbest: 2.8305836 (90)\ttotal: 21s\tremaining: 2.08s\n",
      "91:\tlearn: 2.8336096\ttest: 2.8293716\tbest: 2.8293716 (91)\ttotal: 21.3s\tremaining: 1.85s\n",
      "92:\tlearn: 2.8324344\ttest: 2.8282979\tbest: 2.8282979 (92)\ttotal: 21.5s\tremaining: 1.62s\n",
      "93:\tlearn: 2.8313670\ttest: 2.8273287\tbest: 2.8273287 (93)\ttotal: 21.7s\tremaining: 1.39s\n",
      "94:\tlearn: 2.8303093\ttest: 2.8263885\tbest: 2.8263885 (94)\ttotal: 21.9s\tremaining: 1.15s\n",
      "95:\tlearn: 2.8291648\ttest: 2.8253286\tbest: 2.8253286 (95)\ttotal: 22.1s\tremaining: 922ms\n",
      "96:\tlearn: 2.8280802\ttest: 2.8242990\tbest: 2.8242990 (96)\ttotal: 22.3s\tremaining: 691ms\n",
      "97:\tlearn: 2.8270673\ttest: 2.8233975\tbest: 2.8233975 (97)\ttotal: 22.6s\tremaining: 460ms\n",
      "98:\tlearn: 2.8261538\ttest: 2.8225055\tbest: 2.8225055 (98)\ttotal: 22.8s\tremaining: 230ms\n",
      "99:\tlearn: 2.8250977\ttest: 2.8214609\tbest: 2.8214609 (99)\ttotal: 23s\tremaining: 0us\n",
      "\n",
      "bestTest = 2.821460874\n",
      "bestIteration = 99\n",
      "\n"
     ]
    },
    {
     "data": {
      "text/plain": [
       "<catboost.core.CatBoostRegressor at 0x7fd2abce9240>"
      ]
     },
     "execution_count": 46,
     "metadata": {},
     "output_type": "execute_result"
    }
   ],
   "source": [
    "model = CatBoostRegressor(iterations=100, loss_function='RMSEWithUncertainty', posterior_sampling=True)\n",
    "#model = CatBoostRegressor(iterations=100, task_type=\"CPU\")\n",
    "model.fit(train_data , eval_set=val_data, verbose=True)"
   ]
  },
  {
   "cell_type": "code",
   "execution_count": 47,
   "metadata": {},
   "outputs": [],
   "source": [
    "model.save_model(\"models/n_catboost_uncertainty.cbm\")"
   ]
  },
  {
   "cell_type": "code",
   "execution_count": 24,
   "metadata": {},
   "outputs": [
    {
     "data": {
      "text/plain": [
       "<catboost.core.CatBoostRegressor at 0x7fd2abd36c50>"
      ]
     },
     "execution_count": 24,
     "metadata": {},
     "output_type": "execute_result"
    }
   ],
   "source": [
    "# load catboost model\n",
    "model = CatBoostRegressor()\n",
    "model.load_model(\"models/n_catboost_uncertainty.cbm\")"
   ]
  },
  {
   "cell_type": "code",
   "execution_count": 19,
   "metadata": {},
   "outputs": [],
   "source": [
    "test_ids = []\n",
    "with open(\"pdb_matched/final_test_ids.txt\", \"r\") as f:\n",
    "    for line in f:\n",
    "        test_ids.append(line.strip())"
   ]
  },
  {
   "cell_type": "code",
   "execution_count": 20,
   "metadata": {},
   "outputs": [
    {
     "data": {
      "application/vnd.jupyter.widget-view+json": {
       "model_id": "e03feb09564e4bbea628ee510d25063a",
       "version_major": 2,
       "version_minor": 0
      },
      "text/plain": [
       "  0%|          | 0/12892 [00:00<?, ?it/s]"
      ]
     },
     "metadata": {},
     "output_type": "display_data"
    }
   ],
   "source": [
    "chemical_shifts_df = pd.read_csv(csv_file)\n",
    "# take test ids\n",
    "chemical_shifts_df = chemical_shifts_df[chemical_shifts_df['ID'].isin(test_ids)]\n",
    "\n",
    "#test on them\n",
    "test_X = []\n",
    "for row in tqdm(chemical_shifts_df.itertuples(), total=len(chemical_shifts_df)):\n",
    "    protein_id = row.ID\n",
    "    amino_acid_index = row.seq_index - 1  # Adjust for zero-based indexing\n",
    "    amino_acid_prostt5_emb = prostt5_embs[protein_id][amino_acid_index]\n",
    "    \n",
    "    prot_emb = prott5_embs[protein_id]\n",
    "    \n",
    "    test_X.append(np.concatenate([amino_acid_prostt5_emb.flatten(), np.array(prot_emb).flatten()], axis=0))\n",
    "\n",
    "test_y = list(chemical_shifts_df['H'].values)\n",
    "\n",
    "preds = model.predict(test_X)"
   ]
  },
  {
   "cell_type": "code",
   "execution_count": 21,
   "metadata": {},
   "outputs": [],
   "source": [
    "# select N_our, H_our, ID, entryID, seq_index, seq and save to csv\n",
    "df = pd.DataFrame({'H_cat': preds, 'ID': chemical_shifts_df['ID'], 'entryID': chemical_shifts_df['entryID'], 'seq_index': chemical_shifts_df['seq_index'], 'seq': chemical_shifts_df['seq']})\n",
    "df.to_csv(\"test_n_catboost_prostt5.csv\", index=False)"
   ]
  },
  {
   "cell_type": "code",
   "execution_count": 53,
   "metadata": {},
   "outputs": [],
   "source": [
    "preds = model.virtual_ensembles_predict(val_data, prediction_type='TotalUncertainty', \n",
    "                                                virtual_ensembles_count=20)"
   ]
  },
  {
   "cell_type": "code",
   "execution_count": 55,
   "metadata": {},
   "outputs": [],
   "source": [
    "mean_preds = preds[:,0] # mean values predicted by a virtual ensemble\n",
    "model_uncertainty = preds[:,1] # knowledge uncertainty predicted by a virtual ensemble\n",
    "data_uncertainty = preds[:,2] # average estimated data uncertainty"
   ]
  },
  {
   "cell_type": "code",
   "execution_count": 57,
   "metadata": {},
   "outputs": [
    {
     "data": {
      "text/plain": [
       "0.0009340730662466402"
      ]
     },
     "execution_count": 57,
     "metadata": {},
     "output_type": "execute_result"
    }
   ],
   "source": [
    "# ration of knowledge uncertainty to data uncertainty\n",
    "sum(model_uncertainty) / (sum(data_uncertainty) + sum(model_uncertainty))"
   ]
  },
  {
   "cell_type": "code",
   "execution_count": 80,
   "metadata": {},
   "outputs": [
    {
     "name": "stderr",
     "output_type": "stream",
     "text": [
      "/tmp/ipykernel_1167/1062732999.py:4: UserWarning: \n",
      "\n",
      "`shade_lowest` has been replaced by `thresh`; setting `thresh=0.05.\n",
      "This will become an error in seaborn v0.14.0; please update your code.\n",
      "\n",
      "  sns.kdeplot(x=model_uncertainty, y=np.array(val_y) - mean_preds, cmap=\"Blues\", shade=True, shade_lowest=False);\n",
      "/tmp/ipykernel_1167/1062732999.py:4: FutureWarning: \n",
      "\n",
      "`shade` is now deprecated in favor of `fill`; setting `fill=True`.\n",
      "This will become an error in seaborn v0.14.0; please update your code.\n",
      "\n",
      "  sns.kdeplot(x=model_uncertainty, y=np.array(val_y) - mean_preds, cmap=\"Blues\", shade=True, shade_lowest=False);\n"
     ]
    },
    {
     "data": {
      "image/png": "[encoded data removed]",
      "text/plain": [
       "<Figure size 640x480 with 1 Axes>"
      ]
     },
     "metadata": {},
     "output_type": "display_data"
    }
   ],
   "source": [
    "# plot model uncertainty vs squared error\n",
    "import matplotlib.pyplot as plt\n",
    "import seaborn as sns\n",
    "sns.kdeplot(x=model_uncertainty, y=np.array(val_y) - mean_preds, cmap=\"Blues\", shade=True, shade_lowest=False);\n",
    "plt.title(\"Model uncertainty vs shift prediction error (N)\");\n",
    "plt.xlabel(\"Model uncertainty\");\n",
    "plt.ylabel(\"Error\");\n",
    "# limit y from -15 to 15\n",
    "plt.ylim(-15, 15);"
   ]
  },
  {
   "cell_type": "code",
   "execution_count": 72,
   "metadata": {},
   "outputs": [
    {
     "name": "stderr",
     "output_type": "stream",
     "text": [
      "/tmp/ipykernel_1167/2219157415.py:7: UserWarning: \n",
      "\n",
      "`shade_lowest` has been replaced by `thresh`; setting `thresh=0.05.\n",
      "This will become an error in seaborn v0.14.0; please update your code.\n",
      "\n",
      "  sns.kdeplot(x=data_uncertainty, y=np.array(val_y) - mean_preds, cmap=\"Blues\", shade=True, shade_lowest=False);\n",
      "/tmp/ipykernel_1167/2219157415.py:7: FutureWarning: \n",
      "\n",
      "`shade` is now deprecated in favor of `fill`; setting `fill=True`.\n",
      "This will become an error in seaborn v0.14.0; please update your code.\n",
      "\n",
      "  sns.kdeplot(x=data_uncertainty, y=np.array(val_y) - mean_preds, cmap=\"Blues\", shade=True, shade_lowest=False);\n"
     ]
    },
    {
     "data": {
      "image/png": "[encoded data removed]",
      "text/plain": [
       "<Figure size 640x480 with 1 Axes>"
      ]
     },
     "metadata": {},
     "output_type": "display_data"
    }
   ],
   "source": [
    "# plot data uncertainty vs squared error\n",
    "#plt.scatter(data_uncertainty, np.array(val_y) - mean_preds);\n",
    "\n",
    "\n",
    "#plot density plot of data uncertainty vs squared error\n",
    "import seaborn as sns\n",
    "sns.kdeplot(x=data_uncertainty, y=np.array(val_y) - mean_preds, cmap=\"Blues\", shade=True, shade_lowest=False);\n",
    "plt.title(\"Data uncertainty vs shift prediction error (N)\");\n",
    "plt.xlabel(\"Data uncertainty\");\n",
    "plt.ylabel(\"Error\");\n",
    "plt.ylim(-15, 15);"
   ]
  },
  {
   "cell_type": "code",
   "execution_count": 74,
   "metadata": {},
   "outputs": [
    {
     "data": {
      "text/plain": [
       "1463      12.4005\n",
       "1464      14.0397\n",
       "1465      12.0803\n",
       "1466      10.6632\n",
       "1467      10.7870\n",
       "           ...   \n",
       "216838    15.0991\n",
       "216839    13.5895\n",
       "216840    12.3478\n",
       "216841     8.9248\n",
       "216842        NaN\n",
       "Name: zscores, Length: 35552, dtype: float64"
      ]
     },
     "execution_count": 74,
     "metadata": {},
     "output_type": "execute_result"
    }
   ],
   "source": [
    "val_df['zscores']"
   ]
  },
  {
   "cell_type": "code",
   "execution_count": 75,
   "metadata": {},
   "outputs": [
    {
     "name": "stderr",
     "output_type": "stream",
     "text": [
      "/tmp/ipykernel_1167/1992982398.py:2: UserWarning: \n",
      "\n",
      "`shade_lowest` has been replaced by `thresh`; setting `thresh=0.05.\n",
      "This will become an error in seaborn v0.14.0; please update your code.\n",
      "\n",
      "  sns.kdeplot(x=model_uncertainty, y=val_df['zscores'], cmap=\"Blues\", shade=True, shade_lowest=False);\n",
      "/tmp/ipykernel_1167/1992982398.py:2: FutureWarning: \n",
      "\n",
      "`shade` is now deprecated in favor of `fill`; setting `fill=True`.\n",
      "This will become an error in seaborn v0.14.0; please update your code.\n",
      "\n",
      "  sns.kdeplot(x=model_uncertainty, y=val_df['zscores'], cmap=\"Blues\", shade=True, shade_lowest=False);\n"
     ]
    },
    {
     "data": {
      "image/png": "[encoded data removed]",
      "text/plain": [
       "<Figure size 640x480 with 1 Axes>"
      ]
     },
     "metadata": {},
     "output_type": "display_data"
    }
   ],
   "source": [
    "# plot model uncertainty vs z-scores\n",
    "sns.kdeplot(x=model_uncertainty, y=val_df['zscores'], cmap=\"Blues\", shade=True, shade_lowest=False);\n",
    "plt.title(\"Model uncertainty vs z-scores (N)\");\n",
    "plt.xlabel(\"Model uncertainty\");\n",
    "plt.ylabel(\"Z-score\");"
   ]
  },
  {
   "cell_type": "code",
   "execution_count": 78,
   "metadata": {},
   "outputs": [
    {
     "data": {
      "text/plain": [
       "1463      12.4005\n",
       "1464      14.0397\n",
       "1465      12.0803\n",
       "1466      10.6632\n",
       "1467      10.7870\n",
       "           ...   \n",
       "216838    15.0991\n",
       "216839    13.5895\n",
       "216840    12.3478\n",
       "216841     8.9248\n",
       "216842        NaN\n",
       "Name: zscores, Length: 35552, dtype: float64"
      ]
     },
     "execution_count": 78,
     "metadata": {},
     "output_type": "execute_result"
    }
   ],
   "source": [
    "val_df['zscores']"
   ]
  },
  {
   "cell_type": "code",
   "execution_count": 77,
   "metadata": {},
   "outputs": [
    {
     "name": "stderr",
     "output_type": "stream",
     "text": [
      "/tmp/ipykernel_1167/4245564874.py:2: UserWarning: \n",
      "\n",
      "`shade_lowest` has been replaced by `thresh`; setting `thresh=0.05.\n",
      "This will become an error in seaborn v0.14.0; please update your code.\n",
      "\n",
      "  sns.kdeplot(x=data_uncertainty, y=val_df['zscores'], cmap=\"Blues\", shade=True, shade_lowest=False);\n",
      "/tmp/ipykernel_1167/4245564874.py:2: FutureWarning: \n",
      "\n",
      "`shade` is now deprecated in favor of `fill`; setting `fill=True`.\n",
      "This will become an error in seaborn v0.14.0; please update your code.\n",
      "\n",
      "  sns.kdeplot(x=data_uncertainty, y=val_df['zscores'], cmap=\"Blues\", shade=True, shade_lowest=False);\n"
     ]
    },
    {
     "data": {
      "image/png": "[encoded data removed]",
      "text/plain": [
       "<Figure size 640x480 with 1 Axes>"
      ]
     },
     "metadata": {},
     "output_type": "display_data"
    }
   ],
   "source": [
    "# plot model uncertainty vs z-scores\n",
    "sns.kdeplot(x=data_uncertainty, y=val_df['zscores'], cmap=\"Blues\", shade=True, shade_lowest=False);\n",
    "plt.title(\"Data uncertainty vs z-scores (N)\");\n",
    "plt.xlabel(\"Data uncertainty\");\n",
    "plt.ylabel(\"Z-score\");"
   ]
  },
  {
   "cell_type": "code",
   "execution_count": null,
   "metadata": {},
   "outputs": [],
   "source": []
  }
 ],
 "metadata": {
  "kernelspec": {
   "display_name": "prots",
   "language": "python",
   "name": "python3"
  },
  "language_info": {
   "codemirror_mode": {
    "name": "ipython",
    "version": 3
   },
   "file_extension": ".py",
   "mimetype": "text/x-python",
   "name": "python",
   "nbconvert_exporter": "python",
   "pygments_lexer": "ipython3",
   "version": "3.10.13"
  }
 },
 "nbformat": 4,
 "nbformat_minor": 2
}
